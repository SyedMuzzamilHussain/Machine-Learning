{
 "cells": [
  {
   "cell_type": "markdown",
   "id": "9f02ebf5-640b-4b65-801f-b2ccbf37b8b2",
   "metadata": {},
   "source": [
    "# ✅ What Are Regression Metrics?"
   ]
  },
  {
   "cell_type": "raw",
   "id": "60683aa8-3f39-4e87-bbe2-7ac5732c981e",
   "metadata": {},
   "source": [
    "When you're using regression models (like Linear or Polynomial Regression), you need to measure how accurate your predictions are.\n",
    "These metrics compare predicted values with actual values and tell you how good or bad the model is."
   ]
  },
  {
   "cell_type": "raw",
   "id": "f8467fd2-9de4-4f3e-a87e-c705517120a9",
   "metadata": {},
   "source": [
    "📊 1. MAE (Mean Absolute Error)\n",
    "\n",
    "🔹 What It Is:\n",
    "The average absolute difference between actual and predicted values.\n",
    "\n",
    "✅ Easy to Understand:\n",
    "Just tells you: \"On average, how much is the model wrong?\"\n",
    "Lower MAE = Better model\n",
    "\n",
    "from sklearn.metrics import mean_absolute_error\n",
    "mae = mean_absolute_error(y_true, y_pred)"
   ]
  },
  {
   "cell_type": "raw",
   "id": "2a1708a1-8abc-4bc5-b8a7-17c884ed62b4",
   "metadata": {},
   "source": [
    "📊 2. MSE (Mean Squared Error)\n",
    "\n",
    "🔹 What It Is:\n",
    "The average of the squared differences between actual and predicted values.\n",
    "\n",
    "🧠 Why Square?\n",
    "Punishes large errors more than small ones\n",
    "Very common in model training\n",
    "\n",
    "from sklearn.metrics import mean_squared_error\n",
    "mse = mean_squared_error(y_true, y_pred)"
   ]
  },
  {
   "cell_type": "raw",
   "id": "5c005797-7da2-4c88-92c4-1db94ecf000a",
   "metadata": {},
   "source": [
    "📊 3. RMSE (Root Mean Squared Error)\n",
    "🔹 What It Is:\n",
    "The square root of MSE — same units as the original target.\n",
    "\n",
    "💡 Why Use RMSE?\n",
    "It’s like MSE but easier to interpret because it’s in same unit as target (₹, cm, etc.)\n",
    "Still punishes big errors more\n",
    "\n",
    "import numpy as np\n",
    "rmse = np.sqrt(mean_squared_error(y_true, y_pred))"
   ]
  },
  {
   "cell_type": "raw",
   "id": "b931ac08-3434-43ea-b8a2-a561d691c72c",
   "metadata": {},
   "source": [
    "📊 4. R² Score (R-Squared / Coefficient of Determination)\n",
    "\n",
    "🔹 What It Is:\n",
    "Shows how much of the variation in the output is explained by the model\n",
    "\n",
    "from sklearn.metrics import r2_score\n",
    "r2 = r2_score(y_true, y_pred)"
   ]
  },
  {
   "cell_type": "raw",
   "id": "cc701034-8e56-4190-b62d-24e2a11e143b",
   "metadata": {},
   "source": [
    "📊 5. Adjusted R² Score\n",
    "🔹 What It Is:\n",
    "Improved version of R² that penalizes unnecessary features\n",
    "\n",
    "🤔 Why Use It?\n",
    "If you keep adding useless variables, R² can still go up\n",
    "Adjusted R² tells you if those features actually help"
   ]
  },
  {
   "cell_type": "code",
   "execution_count": null,
   "id": "8e9d9da8-5cbd-4ada-a9b7-6c8b7fc6f830",
   "metadata": {},
   "outputs": [],
   "source": []
  }
 ],
 "metadata": {
  "kernelspec": {
   "display_name": "Python 3 (ipykernel)",
   "language": "python",
   "name": "python3"
  },
  "language_info": {
   "codemirror_mode": {
    "name": "ipython",
    "version": 3
   },
   "file_extension": ".py",
   "mimetype": "text/x-python",
   "name": "python",
   "nbconvert_exporter": "python",
   "pygments_lexer": "ipython3",
   "version": "3.13.1"
  }
 },
 "nbformat": 4,
 "nbformat_minor": 5
}
