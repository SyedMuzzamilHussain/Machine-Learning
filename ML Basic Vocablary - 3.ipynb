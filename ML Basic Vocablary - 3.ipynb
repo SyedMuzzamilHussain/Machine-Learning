{
 "cells": [
  {
   "cell_type": "markdown",
   "id": "b6c5bfdc-b206-45e7-bc4f-c2dd525d010e",
   "metadata": {},
   "source": [
    "# 1. Features\n",
    "What it means: Features are the pieces of information or input data that describe each example you give to the machine."
   ]
  },
  {
   "cell_type": "markdown",
   "id": "e20bc7eb-5718-41c3-9d7b-af829a974047",
   "metadata": {},
   "source": [
    "Think of: The ingredients or characteristics used to make a decision.\n",
    "# Example:\n",
    "\n",
    "If you want to predict house prices, features might be size (in square feet), number of bedrooms, location, and age of the house.\n",
    "If you want to classify emails, features might be the number of words, presence of certain keywords, sender’s email domain, etc."
   ]
  },
  {
   "cell_type": "markdown",
   "id": "e9bbc58b-69de-4b85-a929-eb0f0b482d15",
   "metadata": {},
   "source": [
    "# 2.Labels\n",
    "What it means: Labels are the \"correct answers\" or outputs you want the machine to learn to predict.\n",
    "\n",
    "Think of: The answers or results you already know and want the machine to understand.\n",
    "\n",
    "# Example:\n",
    "\n",
    "For house price prediction, the label is the actual price of the house.\n",
    "\n",
    "For email classification, the label is whether the email is “spam” or “not spam.”\n",
    "\n"
   ]
  },
  {
   "cell_type": "markdown",
   "id": "5ed43591-2000-479c-8241-70110efffc28",
   "metadata": {},
   "source": [
    "# 3. Training Data\n",
    "What it means: Training data is the dataset that contains both features and labels, used by the machine to learn the relationship between inputs and outputs."
   ]
  },
  {
   "cell_type": "markdown",
   "id": "e5f3b118-6f5d-43a9-bf3c-b7b6ac1dc5ee",
   "metadata": {},
   "source": [
    "# 4. Testing Data\n",
    "What it means: Testing data is a separate dataset with known features and labels but not shown to the machine during training. It is used to evaluate how well the machine learned."
   ]
  },
  {
   "cell_type": "code",
   "execution_count": null,
   "id": "fbfc5249-561f-4efc-a247-f246294372cd",
   "metadata": {},
   "outputs": [],
   "source": []
  }
 ],
 "metadata": {
  "kernelspec": {
   "display_name": "Python 3 (ipykernel)",
   "language": "python",
   "name": "python3"
  },
  "language_info": {
   "codemirror_mode": {
    "name": "ipython",
    "version": 3
   },
   "file_extension": ".py",
   "mimetype": "text/x-python",
   "name": "python",
   "nbconvert_exporter": "python",
   "pygments_lexer": "ipython3",
   "version": "3.13.1"
  }
 },
 "nbformat": 4,
 "nbformat_minor": 5
}
