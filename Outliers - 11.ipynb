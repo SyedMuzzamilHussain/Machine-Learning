{
 "cells": [
  {
   "cell_type": "markdown",
   "id": "73850c2d-2ea5-4634-aa87-f9cc3ae6fc52",
   "metadata": {},
   "source": [
    "# 🔍 What is an Outlier?\n",
    "\n",
    "An outlier is a data point that is very different from the rest of the data."
   ]
  },
  {
   "cell_type": "raw",
   "id": "3ffe9bf3-019c-4b8c-b400-abe142ce7979",
   "metadata": {},
   "source": [
    "✅ Example:\n",
    "\n",
    "ages = [20, 21, 22, 23, 95]\n",
    "Here, 95 is an outlier because it's far away from the others."
   ]
  },
  {
   "cell_type": "raw",
   "id": "c134b4db-d06a-4923-be10-01f526ca5366",
   "metadata": {},
   "source": [
    ".\n",
    "\n",
    "🤔 Why Do Outliers Matter?\n",
    "Problem Caused by Outliers\t   Explanation\n",
    "❌ Wrong Average\t           Outliers increase or decrease the mean wrongly\n",
    "❌ Misleading Models\t       Regression, KNN, SVM can be badly affected\n",
    "❌ Wrong Visualization\t       Graphs may look weird\n",
    "❌ Errors in Prediction\tModel  learns noise, not pattern"
   ]
  },
  {
   "cell_type": "markdown",
   "id": "230f330b-724e-43ff-9177-f01ba0c635b8",
   "metadata": {},
   "source": [
    "# 🧠 How to Detect Outliers?"
   ]
  },
  {
   "cell_type": "markdown",
   "id": "9bc27203-ec4f-4a0b-afeb-878e480a8a8d",
   "metadata": {},
   "source": [
    "# 1. 📊 Using Descriptive Statistics (describe())\n",
    "df.describe()\n",
    "\n",
    "Check min, max, mean. If max is too far, it's an outlier.\n",
    "\n",
    "# 2. 📦 Using IQR (Interquartile Range)\n",
    "📌 Steps:\n",
    "Q1 = df['column'].quantile(0.25)\n",
    "Q3 = df['column'].quantile(0.75)\n",
    "IQR = Q3 - Q1\n",
    "\n",
    "lower_limit = Q1 - 1.5 * IQR\n",
    "upper_limit = Q3 + 1.5 * IQR\n",
    "\n",
    "outliers = df[(df['column'] < lower_limit) | (df['column'] > upper_limit)]\n",
    "Anything outside the lower or upper limit is an outlier.\n",
    "\n",
    "# 3. 🧪 Using Z-score\n",
    "Z-score shows how many standard deviations a value is from the mean.\n",
    "\n",
    "from scipy.stats import zscore\n",
    "\n",
    "df['zscore'] = zscore(df['column'])\n",
    "df[df['zscore'].abs() > 3]\n",
    "If Z > 3 or Z < -3 → Outlier\n",
    "\n",
    "# 4. 📉 Using Boxplot\n",
    "import seaborn as sns\n",
    "import matplotlib.pyplot as plt\n",
    "\n",
    "sns.boxplot(x=df['column'])\n",
    "plt.show()\n",
    "Outliers = dots outside the box lines\n",
    "\n",
    "5. 📈 Using Histplot or Distplot\n",
    "\n",
    "sns.histplot(df['column'], kde=True)\n",
    "See if there are any long tails or gaps.\n",
    "\n",
    "# 🧹 What to Do With Outliers?\n",
    "Method\tWhen to Use\n",
    "❌ Remove it\tIf it's a data entry error or not useful\n",
    "\n",
    "⛔ Cap or Floor it\tIf you want to reduce effect but keep the data\n",
    "\n",
    "🔄 Transform it\tUse log, sqrt, etc. to reduce its impact\n",
    "\n",
    "✅ Keep it\tIf it's important (e.g., fraud, rare disease)\n",
    "\n"
   ]
  }
 ],
 "metadata": {
  "kernelspec": {
   "display_name": "Python 3 (ipykernel)",
   "language": "python",
   "name": "python3"
  },
  "language_info": {
   "codemirror_mode": {
    "name": "ipython",
    "version": 3
   },
   "file_extension": ".py",
   "mimetype": "text/x-python",
   "name": "python",
   "nbconvert_exporter": "python",
   "pygments_lexer": "ipython3",
   "version": "3.13.1"
  }
 },
 "nbformat": 4,
 "nbformat_minor": 5
}
