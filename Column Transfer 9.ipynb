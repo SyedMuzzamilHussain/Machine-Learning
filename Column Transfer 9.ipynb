{
 "cells": [
  {
   "cell_type": "markdown",
   "id": "179672aa-8c87-48f9-9550-7fb6bf91c1d8",
   "metadata": {},
   "source": [
    "\n",
    "# 🔷 What is a ColumnTransformer?\n",
    "ColumnTransformer is a tool in scikit-learn (sklearn) that helps you:\n",
    "\n",
    "Apply different transformations to different columns at the same time.\n",
    "\n",
    "✅ You can use it to:\n",
    "\n",
    "Scale numeric columns\n",
    "\n",
    "Encode categorical columns\n",
    "\n",
    "Leave some columns unchanged\n",
    "\n",
    "All in one step\n",
    "\n"
   ]
  },
  {
   "cell_type": "markdown",
   "id": "78efafdf-0cfc-47bc-8e6e-a49abeb640b7",
   "metadata": {},
   "source": [
    "# 🔧 Why Do We Use It?\n",
    "In real datasets:\n",
    "\n",
    "Some columns are numbers (need scaling like StandardScaler)\n",
    "\n",
    "Some are text/categorical (need encoding like OneHotEncoder or LabelEncoder)\n",
    "\n",
    "Some you may want to drop or pass through\n",
    "\n",
    "Doing these separately can be confusing or slow.\n",
    "So, ColumnTransformer helps to organize and apply everything together in a clean and professional way.\n",
    "\n"
   ]
  },
  {
   "cell_type": "raw",
   "id": "30eb5896-4d4c-45cd-9208-05c389e32408",
   "metadata": {},
   "source": []
  },
  {
   "cell_type": "code",
   "execution_count": 1,
   "id": "db89c39e-0f17-40cf-ba9b-4391d37c085c",
   "metadata": {},
   "outputs": [],
   "source": [
    "import numpy as np\n",
    "import pandas as pd\n",
    "\n",
    "from sklearn.impute import SimpleImputer #for filling missing values\n",
    "from sklearn.preprocessing import OneHotEncoder #for converting categorical data into numerical data but make diffrent columns\n",
    "\n",
    "from sklearn.preprocessing import OrdinalEncoder #for converting categorical data into numerical data but accoring to us"
   ]
  },
  {
   "cell_type": "code",
   "execution_count": 2,
   "id": "20148c37-288d-45da-b5a5-570ce19a1b49",
   "metadata": {},
   "outputs": [],
   "source": [
    "df=pd.read_csv(\"covid_toy.csv\")"
   ]
  },
  {
   "cell_type": "code",
   "execution_count": 3,
   "id": "8f038c7c-193f-44f4-abee-04a405e2191c",
   "metadata": {},
   "outputs": [
    {
     "data": {
      "text/html": [
       "<div>\n",
       "<style scoped>\n",
       "    .dataframe tbody tr th:only-of-type {\n",
       "        vertical-align: middle;\n",
       "    }\n",
       "\n",
       "    .dataframe tbody tr th {\n",
       "        vertical-align: top;\n",
       "    }\n",
       "\n",
       "    .dataframe thead th {\n",
       "        text-align: right;\n",
       "    }\n",
       "</style>\n",
       "<table border=\"1\" class=\"dataframe\">\n",
       "  <thead>\n",
       "    <tr style=\"text-align: right;\">\n",
       "      <th></th>\n",
       "      <th>age</th>\n",
       "      <th>gender</th>\n",
       "      <th>fever</th>\n",
       "      <th>cough</th>\n",
       "      <th>city</th>\n",
       "      <th>has_covid</th>\n",
       "    </tr>\n",
       "  </thead>\n",
       "  <tbody>\n",
       "    <tr>\n",
       "      <th>0</th>\n",
       "      <td>60</td>\n",
       "      <td>Male</td>\n",
       "      <td>103.0</td>\n",
       "      <td>Mild</td>\n",
       "      <td>Kolkata</td>\n",
       "      <td>No</td>\n",
       "    </tr>\n",
       "    <tr>\n",
       "      <th>1</th>\n",
       "      <td>27</td>\n",
       "      <td>Male</td>\n",
       "      <td>100.0</td>\n",
       "      <td>Mild</td>\n",
       "      <td>Delhi</td>\n",
       "      <td>Yes</td>\n",
       "    </tr>\n",
       "    <tr>\n",
       "      <th>2</th>\n",
       "      <td>42</td>\n",
       "      <td>Male</td>\n",
       "      <td>101.0</td>\n",
       "      <td>Mild</td>\n",
       "      <td>Delhi</td>\n",
       "      <td>No</td>\n",
       "    </tr>\n",
       "    <tr>\n",
       "      <th>3</th>\n",
       "      <td>31</td>\n",
       "      <td>Female</td>\n",
       "      <td>98.0</td>\n",
       "      <td>Mild</td>\n",
       "      <td>Kolkata</td>\n",
       "      <td>No</td>\n",
       "    </tr>\n",
       "    <tr>\n",
       "      <th>4</th>\n",
       "      <td>65</td>\n",
       "      <td>Female</td>\n",
       "      <td>101.0</td>\n",
       "      <td>Mild</td>\n",
       "      <td>Mumbai</td>\n",
       "      <td>No</td>\n",
       "    </tr>\n",
       "    <tr>\n",
       "      <th>...</th>\n",
       "      <td>...</td>\n",
       "      <td>...</td>\n",
       "      <td>...</td>\n",
       "      <td>...</td>\n",
       "      <td>...</td>\n",
       "      <td>...</td>\n",
       "    </tr>\n",
       "    <tr>\n",
       "      <th>95</th>\n",
       "      <td>12</td>\n",
       "      <td>Female</td>\n",
       "      <td>104.0</td>\n",
       "      <td>Mild</td>\n",
       "      <td>Bangalore</td>\n",
       "      <td>No</td>\n",
       "    </tr>\n",
       "    <tr>\n",
       "      <th>96</th>\n",
       "      <td>51</td>\n",
       "      <td>Female</td>\n",
       "      <td>101.0</td>\n",
       "      <td>Strong</td>\n",
       "      <td>Kolkata</td>\n",
       "      <td>Yes</td>\n",
       "    </tr>\n",
       "    <tr>\n",
       "      <th>97</th>\n",
       "      <td>20</td>\n",
       "      <td>Female</td>\n",
       "      <td>101.0</td>\n",
       "      <td>Mild</td>\n",
       "      <td>Bangalore</td>\n",
       "      <td>No</td>\n",
       "    </tr>\n",
       "    <tr>\n",
       "      <th>98</th>\n",
       "      <td>5</td>\n",
       "      <td>Female</td>\n",
       "      <td>98.0</td>\n",
       "      <td>Strong</td>\n",
       "      <td>Mumbai</td>\n",
       "      <td>No</td>\n",
       "    </tr>\n",
       "    <tr>\n",
       "      <th>99</th>\n",
       "      <td>10</td>\n",
       "      <td>Female</td>\n",
       "      <td>98.0</td>\n",
       "      <td>Strong</td>\n",
       "      <td>Kolkata</td>\n",
       "      <td>Yes</td>\n",
       "    </tr>\n",
       "  </tbody>\n",
       "</table>\n",
       "<p>100 rows × 6 columns</p>\n",
       "</div>"
      ],
      "text/plain": [
       "    age  gender  fever   cough       city has_covid\n",
       "0    60    Male  103.0    Mild    Kolkata        No\n",
       "1    27    Male  100.0    Mild      Delhi       Yes\n",
       "2    42    Male  101.0    Mild      Delhi        No\n",
       "3    31  Female   98.0    Mild    Kolkata        No\n",
       "4    65  Female  101.0    Mild     Mumbai        No\n",
       "..  ...     ...    ...     ...        ...       ...\n",
       "95   12  Female  104.0    Mild  Bangalore        No\n",
       "96   51  Female  101.0  Strong    Kolkata       Yes\n",
       "97   20  Female  101.0    Mild  Bangalore        No\n",
       "98    5  Female   98.0  Strong     Mumbai        No\n",
       "99   10  Female   98.0  Strong    Kolkata       Yes\n",
       "\n",
       "[100 rows x 6 columns]"
      ]
     },
     "execution_count": 3,
     "metadata": {},
     "output_type": "execute_result"
    }
   ],
   "source": [
    "df"
   ]
  },
  {
   "cell_type": "code",
   "execution_count": 4,
   "id": "9ac32256-bb44-4e9d-9e44-c1584a83c82c",
   "metadata": {},
   "outputs": [
    {
     "data": {
      "text/plain": [
       "age           0\n",
       "gender        0\n",
       "fever        10\n",
       "cough         0\n",
       "city          0\n",
       "has_covid     0\n",
       "dtype: int64"
      ]
     },
     "execution_count": 4,
     "metadata": {},
     "output_type": "execute_result"
    }
   ],
   "source": [
    "df.isnull().sum()"
   ]
  },
  {
   "cell_type": "code",
   "execution_count": 5,
   "id": "83a01f45-5e5d-48b7-abb6-b96f9803ac53",
   "metadata": {},
   "outputs": [],
   "source": [
    "from sklearn.model_selection import train_test_split\n",
    "\n",
    "x_train,x_test,y_train,y_test = train_test_split(df.drop(\n",
    "    columns = ['has_covid']),df['has_covid'],test_size =0.2)"
   ]
  },
  {
   "cell_type": "code",
   "execution_count": 6,
   "id": "ab9f61b3-f556-4e23-bbfc-3f0b4aa3b054",
   "metadata": {},
   "outputs": [
    {
     "data": {
      "text/html": [
       "<div>\n",
       "<style scoped>\n",
       "    .dataframe tbody tr th:only-of-type {\n",
       "        vertical-align: middle;\n",
       "    }\n",
       "\n",
       "    .dataframe tbody tr th {\n",
       "        vertical-align: top;\n",
       "    }\n",
       "\n",
       "    .dataframe thead th {\n",
       "        text-align: right;\n",
       "    }\n",
       "</style>\n",
       "<table border=\"1\" class=\"dataframe\">\n",
       "  <thead>\n",
       "    <tr style=\"text-align: right;\">\n",
       "      <th></th>\n",
       "      <th>age</th>\n",
       "      <th>gender</th>\n",
       "      <th>fever</th>\n",
       "      <th>cough</th>\n",
       "      <th>city</th>\n",
       "    </tr>\n",
       "  </thead>\n",
       "  <tbody>\n",
       "    <tr>\n",
       "      <th>45</th>\n",
       "      <td>72</td>\n",
       "      <td>Male</td>\n",
       "      <td>99.0</td>\n",
       "      <td>Mild</td>\n",
       "      <td>Bangalore</td>\n",
       "    </tr>\n",
       "    <tr>\n",
       "      <th>9</th>\n",
       "      <td>64</td>\n",
       "      <td>Female</td>\n",
       "      <td>101.0</td>\n",
       "      <td>Mild</td>\n",
       "      <td>Delhi</td>\n",
       "    </tr>\n",
       "    <tr>\n",
       "      <th>13</th>\n",
       "      <td>64</td>\n",
       "      <td>Male</td>\n",
       "      <td>102.0</td>\n",
       "      <td>Mild</td>\n",
       "      <td>Bangalore</td>\n",
       "    </tr>\n",
       "    <tr>\n",
       "      <th>47</th>\n",
       "      <td>18</td>\n",
       "      <td>Female</td>\n",
       "      <td>104.0</td>\n",
       "      <td>Mild</td>\n",
       "      <td>Bangalore</td>\n",
       "    </tr>\n",
       "    <tr>\n",
       "      <th>96</th>\n",
       "      <td>51</td>\n",
       "      <td>Female</td>\n",
       "      <td>101.0</td>\n",
       "      <td>Strong</td>\n",
       "      <td>Kolkata</td>\n",
       "    </tr>\n",
       "    <tr>\n",
       "      <th>...</th>\n",
       "      <td>...</td>\n",
       "      <td>...</td>\n",
       "      <td>...</td>\n",
       "      <td>...</td>\n",
       "      <td>...</td>\n",
       "    </tr>\n",
       "    <tr>\n",
       "      <th>50</th>\n",
       "      <td>19</td>\n",
       "      <td>Male</td>\n",
       "      <td>101.0</td>\n",
       "      <td>Mild</td>\n",
       "      <td>Delhi</td>\n",
       "    </tr>\n",
       "    <tr>\n",
       "      <th>31</th>\n",
       "      <td>83</td>\n",
       "      <td>Male</td>\n",
       "      <td>103.0</td>\n",
       "      <td>Mild</td>\n",
       "      <td>Kolkata</td>\n",
       "    </tr>\n",
       "    <tr>\n",
       "      <th>57</th>\n",
       "      <td>49</td>\n",
       "      <td>Female</td>\n",
       "      <td>99.0</td>\n",
       "      <td>Strong</td>\n",
       "      <td>Bangalore</td>\n",
       "    </tr>\n",
       "    <tr>\n",
       "      <th>77</th>\n",
       "      <td>8</td>\n",
       "      <td>Female</td>\n",
       "      <td>101.0</td>\n",
       "      <td>Mild</td>\n",
       "      <td>Kolkata</td>\n",
       "    </tr>\n",
       "    <tr>\n",
       "      <th>78</th>\n",
       "      <td>11</td>\n",
       "      <td>Male</td>\n",
       "      <td>100.0</td>\n",
       "      <td>Mild</td>\n",
       "      <td>Bangalore</td>\n",
       "    </tr>\n",
       "  </tbody>\n",
       "</table>\n",
       "<p>80 rows × 5 columns</p>\n",
       "</div>"
      ],
      "text/plain": [
       "    age  gender  fever   cough       city\n",
       "45   72    Male   99.0    Mild  Bangalore\n",
       "9    64  Female  101.0    Mild      Delhi\n",
       "13   64    Male  102.0    Mild  Bangalore\n",
       "47   18  Female  104.0    Mild  Bangalore\n",
       "96   51  Female  101.0  Strong    Kolkata\n",
       "..  ...     ...    ...     ...        ...\n",
       "50   19    Male  101.0    Mild      Delhi\n",
       "31   83    Male  103.0    Mild    Kolkata\n",
       "57   49  Female   99.0  Strong  Bangalore\n",
       "77    8  Female  101.0    Mild    Kolkata\n",
       "78   11    Male  100.0    Mild  Bangalore\n",
       "\n",
       "[80 rows x 5 columns]"
      ]
     },
     "execution_count": 6,
     "metadata": {},
     "output_type": "execute_result"
    }
   ],
   "source": [
    "x_train"
   ]
  },
  {
   "cell_type": "code",
   "execution_count": 7,
   "id": "9a60786c-14f7-433f-ae4e-70a2daac770f",
   "metadata": {},
   "outputs": [],
   "source": [
    "# Manually type output"
   ]
  },
  {
   "cell_type": "code",
   "execution_count": 8,
   "id": "04d040cf-d23c-4e66-9244-3e6c8d7d3bcb",
   "metadata": {},
   "outputs": [],
   "source": [
    "# Step 1"
   ]
  },
  {
   "cell_type": "code",
   "execution_count": 9,
   "id": "b0bd9209-56ed-44cf-924e-e485742310c1",
   "metadata": {},
   "outputs": [
    {
     "data": {
      "text/plain": [
       "(80, 1)"
      ]
     },
     "execution_count": 9,
     "metadata": {},
     "output_type": "execute_result"
    }
   ],
   "source": [
    "# adding simple imputer to fever column to remove missing values\n",
    "si = SimpleImputer(strategy = \"mean\")\n",
    "x_train_fever = si.fit_transform(x_train[['fever']])\n",
    "#also the test data\n",
    "x_test_fever = si.fit_transform(x_test[['fever']])\n",
    "x_train_fever.shape"
   ]
  },
  {
   "cell_type": "code",
   "execution_count": 10,
   "id": "ff582c4f-f89d-408a-83fa-63b372f4b487",
   "metadata": {},
   "outputs": [],
   "source": [
    "# Step 2"
   ]
  },
  {
   "cell_type": "code",
   "execution_count": 11,
   "id": "223e86a0-b249-4f8e-a88c-e7cbe95a7b72",
   "metadata": {},
   "outputs": [
    {
     "data": {
      "text/plain": [
       "(80, 1)"
      ]
     },
     "execution_count": 11,
     "metadata": {},
     "output_type": "execute_result"
    }
   ],
   "source": [
    "#Ordinal Encoding Cough\n",
    "oe = OrdinalEncoder(categories=[['Mild', 'Strong']])  \n",
    "x_train_cough = oe.fit_transform(x_train [['cough']])\n",
    "\n",
    "x_train_cough.shape\n",
    "                                "
   ]
  },
  {
   "cell_type": "code",
   "execution_count": 12,
   "id": "251b65df-e337-4f14-915d-be5f2eee4a66",
   "metadata": {},
   "outputs": [
    {
     "data": {
      "text/plain": [
       "(80, 4)"
      ]
     },
     "execution_count": 12,
     "metadata": {},
     "output_type": "execute_result"
    }
   ],
   "source": [
    "# OnehotEncoding --> Gender city\n",
    "ohe = OneHotEncoder(drop = 'first',sparse_output = False)\n",
    "x_train_gender_city = ohe.fit_transform(x_train[['gender','city']])\n",
    "#also the test data\n",
    "x_test_gender_city = ohe.fit_transform(x_test[['gender', 'city']])\n",
    "x_train_gender_city.shape"
   ]
  },
  {
   "cell_type": "code",
   "execution_count": 13,
   "id": "4dbf4c0d-e405-4058-b6d6-dce1a2f9de35",
   "metadata": {},
   "outputs": [],
   "source": [
    "# Extracting Age\n",
    "\n",
    "x_train_age = x_train.drop(columns=['gender', 'fever', 'cough', 'city']).values\n",
    "\n",
    "# also the test data\n",
    "x_test_age = x_test.drop(columns=['gender', 'fever', 'cough', 'city']).values\n"
   ]
  },
  {
   "cell_type": "code",
   "execution_count": 14,
   "id": "fbb516e0-86e4-4298-8583-45c6f2b5c055",
   "metadata": {},
   "outputs": [
    {
     "data": {
      "text/plain": [
       "(80, 1)"
      ]
     },
     "execution_count": 14,
     "metadata": {},
     "output_type": "execute_result"
    }
   ],
   "source": [
    "x_train_age.shape"
   ]
  },
  {
   "cell_type": "code",
   "execution_count": 15,
   "id": "504a8c1a-4988-4cb0-a64f-beca2a2e847c",
   "metadata": {},
   "outputs": [],
   "source": [
    "x_train_transformed = np.concatenate((x_train_age,x_train_fever,\n",
    "                                    x_train_gender_city,\n",
    "                                    x_train_cough), axis =1)\n"
   ]
  },
  {
   "cell_type": "code",
   "execution_count": 16,
   "id": "cd08c7e5-c1e4-47b6-8df3-e2c561caed58",
   "metadata": {},
   "outputs": [],
   "source": [
    "# x_test_transformed = np.concatenate((x_test_age, x_test_fever, x_test_gender_city, x_test_cough))"
   ]
  },
  {
   "cell_type": "code",
   "execution_count": 17,
   "id": "6b06c97f-76fd-4249-b9eb-b376abefea47",
   "metadata": {},
   "outputs": [
    {
     "data": {
      "text/plain": [
       "(80, 7)"
      ]
     },
     "execution_count": 17,
     "metadata": {},
     "output_type": "execute_result"
    }
   ],
   "source": [
    "x_train_transformed.shape"
   ]
  },
  {
   "cell_type": "markdown",
   "id": "48249b96-688b-4e61-a8fb-cbb5a954c1f4",
   "metadata": {},
   "source": [
    "# By help of column transformer"
   ]
  },
  {
   "cell_type": "raw",
   "id": "19c7519d-e0b7-4c0b-a818-87302ef82fc3",
   "metadata": {},
   "source": [
    "SYNTAX OF IT AND ITS EXPLANATION\n",
    "\n",
    "transformer = ColumnTransformer(transformers=[ \n",
    "    ('tnfl', SimpleImputer(strategy=\"mean\"), ['fever']),  # Filling missing values with mean\n",
    "    (\"tnf2\", OrdinalEncoder(categories=[[\"Mild\", \"Strong\"]]), ['cough']),  # Encoding categorical data\n",
    "    (\"tnf3\", OneHotEncoder(sparse_output=False, drop=\"first\"), [\"gender\", \"city\"])  # One-hot encoding gender & city\n",
    "], remainder='passthrough')  # Keeping other columns unchanged\n",
    "\n",
    "tranformer is object of column transformer and we can say it anything according to us and then we calls it and then we pass it list and then remaider\n",
    "in this we pass in format in tuple format so as you can see we are passing 3 tuples and each tuple we pass 3 thing \n",
    "first its name can be anything\n",
    "seocnd we transformer object\n",
    "third list ke andar column kiske upar lagana hai"
   ]
  },
  {
   "cell_type": "code",
   "execution_count": 18,
   "id": "e0fa8b67-2834-47b6-9e1f-e6cf8841cd53",
   "metadata": {},
   "outputs": [],
   "source": [
    "from sklearn.compose import ColumnTransformer\n",
    "from sklearn.impute import SimpleImputer\n",
    "from sklearn.preprocessing import OrdinalEncoder, OneHotEncoder\n",
    "\n",
    "transformer = ColumnTransformer(transformers=[ \n",
    "    ('tnfl', SimpleImputer(strategy=\"mean\"), ['fever']),  # Filling missing values with mean\n",
    "    (\"tnf2\", OrdinalEncoder(categories=[[\"Mild\", \"Strong\"]]), ['cough']),  # Encoding categorical data\n",
    "    (\"tnf3\", OneHotEncoder(sparse_output=False, drop=\"first\"), [\"gender\", \"city\"])  # One-hot encoding gender & city\n",
    "], remainder='passthrough')  # Keeping other columns unchanged\n"
   ]
  },
  {
   "cell_type": "code",
   "execution_count": 19,
   "id": "0057d89f-1b05-49ee-bf15-be52b4634a54",
   "metadata": {},
   "outputs": [],
   "source": [
    "# Lets Understand What Happening Here! "
   ]
  },
  {
   "cell_type": "raw",
   "id": "003eb66d-a43a-4039-89a0-d9bc2a6abcd6",
   "metadata": {},
   "source": [
    "from sklearn.compose import ColumnTransformer\n",
    "from sklearn.impute import SimpleImputer\n",
    "from sklearn.preprocessing import OrdinalEncoder, OneHotEncoder\n",
    "\n",
    "You're importing tools to handle missing values and encode categorical data.\n",
    "\n",
    "Now, this part:\n",
    "transformer = ColumnTransformer(transformers=[\n",
    "You're creating a ColumnTransformer named transformer which will apply different transformations to different columns.\n",
    "\n",
    "Each step inside the list:\n",
    "1.\n",
    "('tnfl', SimpleImputer(strategy=\"mean\"), ['fever'])\n",
    "\n",
    "This step fills missing values in the `'fever'` column using the mean.\n",
    "`tnfl` is just a name for this step.\n",
    "\n",
    "2.\n",
    "(\"tnf2\", OrdinalEncoder(categories=[[\"Mild\", \"Strong\"]]), ['cough'])\n",
    "\n",
    "This encodes the `'cough'` column where \"Mild\" becomes 0 and \"Strong\" becomes 1.\n",
    "Useful because there's a clear order between \"Mild\" and \"Strong\".\n",
    "\n",
    "3.\n",
    "(\"tnf3\", OneHotEncoder(sparse_output=False, drop=\"first\"), [\"gender\", \"city\"])\n",
    "```\n",
    "\n",
    "* Applies **OneHotEncoding** to `'gender'` and `'city'` columns.\n",
    "* It drops the first category to avoid the **dummy variable trap**.\n",
    "* `sparse_output=False` gives normal arrays (not sparse matrix).\n",
    "Finally:\n",
    "\n",
    "], remainder='passthrough')\n",
    "\n",
    "* This keeps **all other columns unchanged** (i.e., they pass through untouched).\n",
    "\n",
    "Summary:\n",
    "\n",
    "This code builds a single transformer that:\n",
    "\n",
    "* Handles missing values in `'fever'`\n",
    "* Applies **ordinal encoding** to `'cough'`\n",
    "* Applies **one-hot encoding** to `'gender'` and `'city'`\n",
    "* Leaves all other columns as they are\n",
    "\n",
    "Would you like an example to see how it transforms a sample DataFrame?\n"
   ]
  },
  {
   "cell_type": "code",
   "execution_count": 20,
   "id": "0f38d8b7-6073-4239-9253-3d96af9da523",
   "metadata": {},
   "outputs": [
    {
     "data": {
      "text/plain": [
       "(80, 7)"
      ]
     },
     "execution_count": 20,
     "metadata": {},
     "output_type": "execute_result"
    }
   ],
   "source": [
    "transformer.fit_transform(x_train).shape"
   ]
  },
  {
   "cell_type": "code",
   "execution_count": 21,
   "id": "2023e508-828d-4ba1-a1bc-d50aa16a47f2",
   "metadata": {},
   "outputs": [
    {
     "data": {
      "text/plain": [
       "(20, 7)"
      ]
     },
     "execution_count": 21,
     "metadata": {},
     "output_type": "execute_result"
    }
   ],
   "source": [
    "transformer.transform(x_test).shape"
   ]
  },
  {
   "cell_type": "code",
   "execution_count": null,
   "id": "694762c4-1770-41ce-8f1a-98f127d3f94a",
   "metadata": {},
   "outputs": [],
   "source": []
  }
 ],
 "metadata": {
  "kernelspec": {
   "display_name": "Python 3 (ipykernel)",
   "language": "python",
   "name": "python3"
  },
  "language_info": {
   "codemirror_mode": {
    "name": "ipython",
    "version": 3
   },
   "file_extension": ".py",
   "mimetype": "text/x-python",
   "name": "python",
   "nbconvert_exporter": "python",
   "pygments_lexer": "ipython3",
   "version": "3.13.1"
  }
 },
 "nbformat": 4,
 "nbformat_minor": 5
}
