{
 "cells": [
  {
   "cell_type": "markdown",
   "id": "f8cfee30-021a-4746-a580-e20ab62d4eaa",
   "metadata": {},
   "source": [
    "# ✅ What is Bias and Variance?"
   ]
  },
  {
   "cell_type": "raw",
   "id": "47e9406b-4ea9-4a57-b6f6-054e9d5806bb",
   "metadata": {},
   "source": [
    "🔹 Bias (Error due to wrong assumptions)\n",
    "Bias happens when the model is too simple and cannot learn the pattern from the data.\n",
    "It misses important relationships between input and output.\n",
    "Leads to underfitting.\n",
    "\n",
    "Example: Using a straight line to fit data that’s curved.\n"
   ]
  },
  {
   "cell_type": "raw",
   "id": "5119a98f-e824-40c2-a764-b985a74555db",
   "metadata": {},
   "source": [
    "🔹 Variance (Error due to sensitivity to data)\n",
    "Variance happens when the model is too complex and learns even the noise in the training data.\n",
    "It does great on training data, but bad on new/unseen data.\n",
    "Leads to overfitting.\n",
    "Example: A wiggly line that touches every training point."
   ]
  },
  {
   "cell_type": "code",
   "execution_count": null,
   "id": "37b4a0e5-226b-4f61-9e3b-9585735542e5",
   "metadata": {},
   "outputs": [],
   "source": [
    "🎯 What is the Bias–Variance Tradeoff?\n",
    "It is the balance between bias and variance that you need to maintain for the model to perform well on both training and test data."
   ]
  },
  {
   "cell_type": "code",
   "execution_count": null,
   "id": "9a4d91b4-80b1-4f61-bf49-dd0df94b6377",
   "metadata": {},
   "outputs": [],
   "source": [
    "📈 Visual Understanding:\n",
    "Underfitting (High Bias, Low Variance):\n",
    "Training Error: High ❌\n",
    "Testing Error: High ❌\n",
    "\n",
    "Overfitting (Low Bias, High Variance):\n",
    "Training Error: Low ✅\n",
    "Testing Error: High ❌\n",
    "\n",
    "Good Fit (Balanced Bias & Variance):\n",
    "Training Error: Low ✅\n",
    "Testing Error: Low ✅"
   ]
  },
  {
   "cell_type": "code",
   "execution_count": null,
   "id": "18caf07f-85cb-407c-b333-56b6d10cc706",
   "metadata": {},
   "outputs": [],
   "source": [
    "⚖️ How to Manage the Bias-Variance Tradeoff\n",
    "\n",
    "| Solution                                   | Helps With                            |\n",
    "| ------------------------------------------ | ------------------------------------- |\n",
    "| Use the right model complexity             | Both                                  |\n",
    "| Use **Cross-Validation**                   | Detect overfitting                    |\n",
    "| Use **Regularization (Ridge, Lasso)**      | Reduce variance (control overfitting) |\n",
    "| **Get more data**                          | Reduce variance                       |\n",
    "| **Feature selection**                      | Reduce variance                       |\n",
    "| **Ensemble methods** (e.g., Random Forest) | Balance both                          |"
   ]
  },
  {
   "cell_type": "raw",
   "id": "f2332522-9dd7-4c0e-9c28-58c2c9df7f72",
   "metadata": {},
   "source": [
    "| Low Bias, High Variance | → Overfitting\n",
    "| High Bias, Low Variance | → Underfitting\n",
    "| Balanced                | → Good Model\n"
   ]
  }
 ],
 "metadata": {
  "kernelspec": {
   "display_name": "Python 3 (ipykernel)",
   "language": "python",
   "name": "python3"
  },
  "language_info": {
   "codemirror_mode": {
    "name": "ipython",
    "version": 3
   },
   "file_extension": ".py",
   "mimetype": "text/x-python",
   "name": "python",
   "nbconvert_exporter": "python",
   "pygments_lexer": "ipython3",
   "version": "3.13.1"
  }
 },
 "nbformat": 4,
 "nbformat_minor": 5
}
