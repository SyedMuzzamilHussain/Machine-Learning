{
 "cells": [
  {
   "cell_type": "markdown",
   "id": "bf58328a-023a-4f61-9fe3-9066d5dae8ae",
   "metadata": {},
   "source": [
    "# 🔹 What is Standardization?\n"
   ]
  },
  {
   "cell_type": "raw",
   "id": "fb0ef3fe-d2b9-4a99-901d-44155695de75",
   "metadata": {},
   "source": [
    "Standardization is a data preprocessing technique where we adjust values in a dataset so that:\n",
    "\n",
    "The mean (average) becomes 0\n",
    "The standard deviation (spread) becomes 1\n",
    "\n",
    "This helps bring all features to the same scale, even if they originally had different units or ranges."
   ]
  },
  {
   "cell_type": "markdown",
   "id": "f9480cbd-0f98-4a67-a9c4-a39d84cd1b9d",
   "metadata": {},
   "source": [
    "# 🔹 Why is Standardization Important?"
   ]
  },
  {
   "cell_type": "markdown",
   "id": "32ca4cb2-0614-4580-b059-e4cf38982aea",
   "metadata": {},
   "source": [
    " Think Like This:\n",
    "Suppose you’re training a model using:\n",
    "\n",
    "Age (20 to 60)\n",
    "Salary (₹20,000 to ₹2,00,000)\n",
    "Experience (0 to 30)\n",
    "\n",
    "Even if age and experience are important, the model might give more importance to salary, just because the numbers are bigger.\n",
    "\n",
    "📌 Standardization fixes this problem by converting all values to the same scale.\n",
    "\n"
   ]
  },
  {
   "cell_type": "markdown",
   "id": "5bae9ce7-667c-46cd-8944-77f90171219b",
   "metadata": {},
   "source": [
    "# 🔹 When to Use Standardization?\n"
   ]
  },
  {
   "cell_type": "raw",
   "id": "9378d3c5-0628-43ff-8207-d7543e183304",
   "metadata": {},
   "source": [
    "You should use standardization when:\n",
    "\n",
    "Your features have different ranges or units\n",
    "You are using models that are sensitive to scale, such as:\n",
    "\n",
    "Linear Regression\n",
    "Logistic Regression\n",
    "KNN (K-Nearest Neighbors)\n",
    "SVM (Support Vector Machine)\n",
    "Neural Networks\n",
    "PCA (Principal Component Analysis)"
   ]
  },
  {
   "cell_type": "markdown",
   "id": "d06a89d1-d716-474a-b7ea-58c18b96ee6a",
   "metadata": {},
   "source": [
    "# 🔹 When NOT to Use Standardization?\n",
    "You usually don’t need it for:\n",
    "\n",
    "Tree-based models, because they don’t care about the scale:\n",
    "\n",
    "Decision Tree\n",
    "\n",
    "Random Forest\n",
    "\n",
    "XGBoost\n",
    "\n",
    "LightGBM"
   ]
  },
  {
   "cell_type": "markdown",
   "id": "0757844a-c6a0-4766-adea-2099015dc282",
   "metadata": {},
   "source": [
    "# 🔹 Benefits of Standardization\n",
    "✅ Makes training faster and more stable\n",
    "\n",
    "✅ Helps models converge better\n",
    "\n",
    "✅ Prevents features with large values from dominating\n",
    "\n",
    "✅ Required for many algorithms that rely on distance or gradients\n",
    "\n",
    "\n"
   ]
  },
  {
   "cell_type": "markdown",
   "id": "54d2cf51-fab2-4215-9623-246e67abca29",
   "metadata": {},
   "source": [
    "# Step 1: Import Libraries"
   ]
  },
  {
   "cell_type": "code",
   "execution_count": 7,
   "id": "f2009772-acdd-4025-b7f9-e6d5d397efc7",
   "metadata": {},
   "outputs": [],
   "source": [
    "import pandas as pd\n",
    "import numpy as np\n",
    "from sklearn.preprocessing import StandardScaler\n"
   ]
  },
  {
   "cell_type": "markdown",
   "id": "77e5eaa0-da5c-46f9-9575-31e0c65954db",
   "metadata": {},
   "source": [
    "# Step 2: Load Titanic Dataset\n",
    "We’ll use Titanic data from seaborn (easy to load):"
   ]
  },
  {
   "cell_type": "code",
   "execution_count": 2,
   "id": "a6484094-ce41-4491-966f-a07c8ec68fa7",
   "metadata": {},
   "outputs": [
    {
     "data": {
      "text/html": [
       "<div>\n",
       "<style scoped>\n",
       "    .dataframe tbody tr th:only-of-type {\n",
       "        vertical-align: middle;\n",
       "    }\n",
       "\n",
       "    .dataframe tbody tr th {\n",
       "        vertical-align: top;\n",
       "    }\n",
       "\n",
       "    .dataframe thead th {\n",
       "        text-align: right;\n",
       "    }\n",
       "</style>\n",
       "<table border=\"1\" class=\"dataframe\">\n",
       "  <thead>\n",
       "    <tr style=\"text-align: right;\">\n",
       "      <th></th>\n",
       "      <th>survived</th>\n",
       "      <th>pclass</th>\n",
       "      <th>sex</th>\n",
       "      <th>age</th>\n",
       "      <th>sibsp</th>\n",
       "      <th>parch</th>\n",
       "      <th>fare</th>\n",
       "      <th>embarked</th>\n",
       "      <th>class</th>\n",
       "      <th>who</th>\n",
       "      <th>adult_male</th>\n",
       "      <th>deck</th>\n",
       "      <th>embark_town</th>\n",
       "      <th>alive</th>\n",
       "      <th>alone</th>\n",
       "    </tr>\n",
       "  </thead>\n",
       "  <tbody>\n",
       "    <tr>\n",
       "      <th>0</th>\n",
       "      <td>0</td>\n",
       "      <td>3</td>\n",
       "      <td>male</td>\n",
       "      <td>22.0</td>\n",
       "      <td>1</td>\n",
       "      <td>0</td>\n",
       "      <td>7.2500</td>\n",
       "      <td>S</td>\n",
       "      <td>Third</td>\n",
       "      <td>man</td>\n",
       "      <td>True</td>\n",
       "      <td>NaN</td>\n",
       "      <td>Southampton</td>\n",
       "      <td>no</td>\n",
       "      <td>False</td>\n",
       "    </tr>\n",
       "    <tr>\n",
       "      <th>1</th>\n",
       "      <td>1</td>\n",
       "      <td>1</td>\n",
       "      <td>female</td>\n",
       "      <td>38.0</td>\n",
       "      <td>1</td>\n",
       "      <td>0</td>\n",
       "      <td>71.2833</td>\n",
       "      <td>C</td>\n",
       "      <td>First</td>\n",
       "      <td>woman</td>\n",
       "      <td>False</td>\n",
       "      <td>C</td>\n",
       "      <td>Cherbourg</td>\n",
       "      <td>yes</td>\n",
       "      <td>False</td>\n",
       "    </tr>\n",
       "    <tr>\n",
       "      <th>2</th>\n",
       "      <td>1</td>\n",
       "      <td>3</td>\n",
       "      <td>female</td>\n",
       "      <td>26.0</td>\n",
       "      <td>0</td>\n",
       "      <td>0</td>\n",
       "      <td>7.9250</td>\n",
       "      <td>S</td>\n",
       "      <td>Third</td>\n",
       "      <td>woman</td>\n",
       "      <td>False</td>\n",
       "      <td>NaN</td>\n",
       "      <td>Southampton</td>\n",
       "      <td>yes</td>\n",
       "      <td>True</td>\n",
       "    </tr>\n",
       "    <tr>\n",
       "      <th>3</th>\n",
       "      <td>1</td>\n",
       "      <td>1</td>\n",
       "      <td>female</td>\n",
       "      <td>35.0</td>\n",
       "      <td>1</td>\n",
       "      <td>0</td>\n",
       "      <td>53.1000</td>\n",
       "      <td>S</td>\n",
       "      <td>First</td>\n",
       "      <td>woman</td>\n",
       "      <td>False</td>\n",
       "      <td>C</td>\n",
       "      <td>Southampton</td>\n",
       "      <td>yes</td>\n",
       "      <td>False</td>\n",
       "    </tr>\n",
       "    <tr>\n",
       "      <th>4</th>\n",
       "      <td>0</td>\n",
       "      <td>3</td>\n",
       "      <td>male</td>\n",
       "      <td>35.0</td>\n",
       "      <td>0</td>\n",
       "      <td>0</td>\n",
       "      <td>8.0500</td>\n",
       "      <td>S</td>\n",
       "      <td>Third</td>\n",
       "      <td>man</td>\n",
       "      <td>True</td>\n",
       "      <td>NaN</td>\n",
       "      <td>Southampton</td>\n",
       "      <td>no</td>\n",
       "      <td>True</td>\n",
       "    </tr>\n",
       "  </tbody>\n",
       "</table>\n",
       "</div>"
      ],
      "text/plain": [
       "   survived  pclass     sex   age  sibsp  parch     fare embarked  class  \\\n",
       "0         0       3    male  22.0      1      0   7.2500        S  Third   \n",
       "1         1       1  female  38.0      1      0  71.2833        C  First   \n",
       "2         1       3  female  26.0      0      0   7.9250        S  Third   \n",
       "3         1       1  female  35.0      1      0  53.1000        S  First   \n",
       "4         0       3    male  35.0      0      0   8.0500        S  Third   \n",
       "\n",
       "     who  adult_male deck  embark_town alive  alone  \n",
       "0    man        True  NaN  Southampton    no  False  \n",
       "1  woman       False    C    Cherbourg   yes  False  \n",
       "2  woman       False  NaN  Southampton   yes   True  \n",
       "3  woman       False    C  Southampton   yes  False  \n",
       "4    man        True  NaN  Southampton    no   True  "
      ]
     },
     "execution_count": 2,
     "metadata": {},
     "output_type": "execute_result"
    }
   ],
   "source": [
    "import seaborn as sns\n",
    "\n",
    "titanic = sns.load_dataset('titanic')\n",
    "titanic.head()\n"
   ]
  },
  {
   "cell_type": "markdown",
   "id": "d947db5b-7e0b-4e60-8246-5bec9508b435",
   "metadata": {},
   "source": [
    "# Step 3: Select Numeric Columns\n",
    "We want to standardize numeric columns only:"
   ]
  },
  {
   "cell_type": "code",
   "execution_count": 5,
   "id": "f5fc225d-f3e6-4640-b0a4-fb17c6d71553",
   "metadata": {},
   "outputs": [
    {
     "data": {
      "text/html": [
       "<div>\n",
       "<style scoped>\n",
       "    .dataframe tbody tr th:only-of-type {\n",
       "        vertical-align: middle;\n",
       "    }\n",
       "\n",
       "    .dataframe tbody tr th {\n",
       "        vertical-align: top;\n",
       "    }\n",
       "\n",
       "    .dataframe thead th {\n",
       "        text-align: right;\n",
       "    }\n",
       "</style>\n",
       "<table border=\"1\" class=\"dataframe\">\n",
       "  <thead>\n",
       "    <tr style=\"text-align: right;\">\n",
       "      <th></th>\n",
       "      <th>age</th>\n",
       "      <th>fare</th>\n",
       "      <th>sibsp</th>\n",
       "      <th>parch</th>\n",
       "    </tr>\n",
       "  </thead>\n",
       "  <tbody>\n",
       "    <tr>\n",
       "      <th>0</th>\n",
       "      <td>22.0</td>\n",
       "      <td>7.2500</td>\n",
       "      <td>1</td>\n",
       "      <td>0</td>\n",
       "    </tr>\n",
       "    <tr>\n",
       "      <th>1</th>\n",
       "      <td>38.0</td>\n",
       "      <td>71.2833</td>\n",
       "      <td>1</td>\n",
       "      <td>0</td>\n",
       "    </tr>\n",
       "    <tr>\n",
       "      <th>2</th>\n",
       "      <td>26.0</td>\n",
       "      <td>7.9250</td>\n",
       "      <td>0</td>\n",
       "      <td>0</td>\n",
       "    </tr>\n",
       "    <tr>\n",
       "      <th>3</th>\n",
       "      <td>35.0</td>\n",
       "      <td>53.1000</td>\n",
       "      <td>1</td>\n",
       "      <td>0</td>\n",
       "    </tr>\n",
       "    <tr>\n",
       "      <th>4</th>\n",
       "      <td>35.0</td>\n",
       "      <td>8.0500</td>\n",
       "      <td>0</td>\n",
       "      <td>0</td>\n",
       "    </tr>\n",
       "  </tbody>\n",
       "</table>\n",
       "</div>"
      ],
      "text/plain": [
       "    age     fare  sibsp  parch\n",
       "0  22.0   7.2500      1      0\n",
       "1  38.0  71.2833      1      0\n",
       "2  26.0   7.9250      0      0\n",
       "3  35.0  53.1000      1      0\n",
       "4  35.0   8.0500      0      0"
      ]
     },
     "execution_count": 5,
     "metadata": {},
     "output_type": "execute_result"
    }
   ],
   "source": [
    "numeric_features = ['age', 'fare', 'sibsp', 'parch']\n",
    "titanic_numeric = titanic[numeric_features]\n",
    "titanic_numeric.head()\n",
    "\n",
    "\n",
    "# Explanation:\n",
    "\n",
    "# age, fare, sibsp (siblings/spouses aboard), parch (parents/children aboard) are numeric columns.\n",
    "\n",
    "# We extract these for standardization.\n",
    "\n"
   ]
  },
  {
   "cell_type": "markdown",
   "id": "1f4bfeb7-0caf-494c-ae0a-d71f635a23ec",
   "metadata": {},
   "source": [
    "# Step 4: Handle Missing Values\n",
    "age has missing values, so fill them first:"
   ]
  },
  {
   "cell_type": "code",
   "execution_count": 8,
   "id": "be53db87-dcc4-41e1-9095-ec996421aeb0",
   "metadata": {},
   "outputs": [
    {
     "data": {
      "text/plain": [
       "survived         0\n",
       "pclass           0\n",
       "sex              0\n",
       "age            177\n",
       "sibsp            0\n",
       "parch            0\n",
       "fare             0\n",
       "embarked         2\n",
       "class            0\n",
       "who              0\n",
       "adult_male       0\n",
       "deck           688\n",
       "embark_town      2\n",
       "alive            0\n",
       "alone            0\n",
       "dtype: int64"
      ]
     },
     "execution_count": 8,
     "metadata": {},
     "output_type": "execute_result"
    }
   ],
   "source": [
    "titanic.isnull().sum()"
   ]
  },
  {
   "cell_type": "code",
   "execution_count": 19,
   "id": "d169dcbe-1694-4811-b9b0-5b1960552a2a",
   "metadata": {},
   "outputs": [],
   "source": [
    "titanic_numeric = titanic[numeric_features].copy()\n",
    "titanic_numeric['age'] = titanic_numeric['age'].fillna(titanic_numeric['age'].mean())"
   ]
  },
  {
   "cell_type": "code",
   "execution_count": 23,
   "id": "5aa9c350-5b78-4264-b9ff-8948c5da300d",
   "metadata": {},
   "outputs": [
    {
     "data": {
      "text/plain": [
       "age      0\n",
       "fare     0\n",
       "sibsp    0\n",
       "parch    0\n",
       "dtype: int64"
      ]
     },
     "execution_count": 23,
     "metadata": {},
     "output_type": "execute_result"
    }
   ],
   "source": [
    "titanic_numeric.isnull().sum()"
   ]
  },
  {
   "cell_type": "markdown",
   "id": "a266680b-a2e1-4594-a248-87cf2aa44c82",
   "metadata": {},
   "source": [
    "# Step 5: Check Data Before Standardization\n"
   ]
  },
  {
   "cell_type": "code",
   "execution_count": 24,
   "id": "988e924e-073c-40a5-8a55-97ac79717174",
   "metadata": {},
   "outputs": [
    {
     "name": "stdout",
     "output_type": "stream",
     "text": [
      "              age        fare       sibsp       parch\n",
      "count  891.000000  891.000000  891.000000  891.000000\n",
      "mean    29.699118   32.204208    0.523008    0.381594\n",
      "std     13.002015   49.693429    1.102743    0.806057\n",
      "min      0.420000    0.000000    0.000000    0.000000\n",
      "25%     22.000000    7.910400    0.000000    0.000000\n",
      "50%     29.699118   14.454200    0.000000    0.000000\n",
      "75%     35.000000   31.000000    1.000000    0.000000\n",
      "max     80.000000  512.329200    8.000000    6.000000\n"
     ]
    }
   ],
   "source": [
    "print(titanic_numeric.describe())\n"
   ]
  },
  {
   "cell_type": "markdown",
   "id": "e050c694-e427-41d7-81aa-f56f71533d2b",
   "metadata": {},
   "source": [
    "# Step 6: Apply StandardScaler\n"
   ]
  },
  {
   "cell_type": "code",
   "execution_count": 28,
   "id": "eb52808f-e4fc-4429-941f-fac695b265f3",
   "metadata": {},
   "outputs": [],
   "source": [
    "scaler = StandardScaler()\n",
    "titanic_scaled = scaler.fit_transform(titanic_numeric)"
   ]
  },
  {
   "cell_type": "markdown",
   "id": "5fcd02ca-aba7-48e6-9437-200793df2745",
   "metadata": {},
   "source": [
    "# Step 8: Check Data After Standardization"
   ]
  },
  {
   "cell_type": "code",
   "execution_count": 29,
   "id": "d2ec9c50-8cdd-41b2-ab04-54a56f8f3b38",
   "metadata": {},
   "outputs": [
    {
     "name": "stdout",
     "output_type": "stream",
     "text": [
      "                age          fare         sibsp         parch\n",
      "count  8.910000e+02  8.910000e+02  8.910000e+02  8.910000e+02\n",
      "mean   2.232906e-16  3.987333e-18  4.386066e-17  5.382900e-17\n",
      "std    1.000562e+00  1.000562e+00  1.000562e+00  1.000562e+00\n",
      "min   -2.253155e+00 -6.484217e-01 -4.745452e-01 -4.736736e-01\n",
      "25%   -5.924806e-01 -4.891482e-01 -4.745452e-01 -4.736736e-01\n",
      "50%    0.000000e+00 -3.573909e-01 -4.745452e-01 -4.736736e-01\n",
      "75%    4.079260e-01 -2.424635e-02  4.327934e-01 -4.736736e-01\n",
      "max    3.870872e+00  9.667167e+00  6.784163e+00  6.974147e+00\n"
     ]
    }
   ],
   "source": [
    "print(titanic_scaled_df.describe())\n"
   ]
  },
  {
   "cell_type": "markdown",
   "id": "63344d62-1d44-473b-87cf-baf1fd2f8bbd",
   "metadata": {},
   "source": [
    "# What You Will See:\n",
    "Before scaling: Different means and standard deviations\n",
    "\n",
    "After scaling: Means close to 0, std close to 1\n",
    "\n"
   ]
  }
 ],
 "metadata": {
  "kernelspec": {
   "display_name": "Python 3 (ipykernel)",
   "language": "python",
   "name": "python3"
  },
  "language_info": {
   "codemirror_mode": {
    "name": "ipython",
    "version": 3
   },
   "file_extension": ".py",
   "mimetype": "text/x-python",
   "name": "python",
   "nbconvert_exporter": "python",
   "pygments_lexer": "ipython3",
   "version": "3.13.1"
  }
 },
 "nbformat": 4,
 "nbformat_minor": 5
}
