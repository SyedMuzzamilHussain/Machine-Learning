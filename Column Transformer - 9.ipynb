{
 "cells": [
  {
   "cell_type": "markdown",
   "id": "b3193acd-7ce5-4321-9bd5-58fc36973b80",
   "metadata": {},
   "source": [
    "# What is Column Transformation?\n"
   ]
  },
  {
   "cell_type": "raw",
   "id": "243b8a85-0dc7-4a40-b4e1-fa54374340c2",
   "metadata": {},
   "source": [
    "Column Transformation means applying different types of data processing steps to different columns in your dataset, based on the kind of data each column holds.\n",
    "\n",
    "For example, in a dataset:\n",
    "Some columns have numbers (like Age, Salary).\n",
    "Some columns have categories or labels (like Gender, Country).\n",
    "Some columns might have text data.\n",
    "\n",
    "Each type of data needs different preparation before feeding it into a machine learning model. Column Transformation helps manage these different preparations in a neat, organized way"
   ]
  },
  {
   "cell_type": "markdown",
   "id": "9a3d1ba3-da73-4838-b872-b40e0b33bda0",
   "metadata": {},
   "source": [
    "# Why is Column Transformation Important?"
   ]
  },
  {
   "cell_type": "raw",
   "id": "bfceed5f-7173-4c4b-a5de-5c37fb93bce6",
   "metadata": {},
   "source": [
    "Different columns require different processing methods.\n",
    "\n",
    "Doing correct processing helps the model learn better and make more accurate predictions.\n",
    "\n",
    "It saves time by combining all preprocessing steps into a single object.\n",
    "\n",
    "Ensures that the same processing steps are applied consistently on training and testing data."
   ]
  },
  {
   "cell_type": "markdown",
   "id": "7a131499-3ae6-4f78-ab5d-270d013dab36",
   "metadata": {},
   "source": [
    "# Common Types of Column Transformations\n"
   ]
  },
  {
   "cell_type": "code",
   "execution_count": null,
   "id": "152eb601-13a1-4874-81cc-bda42c31a558",
   "metadata": {},
   "outputs": [],
   "source": [
    "Data Type\tTypical     Transformation\n",
    "Numerical\tScaling (StandardScaler, MinMaxScaler), Imputation of missing values\n",
    "Categorical\tEncoding (OneHotEncoder, LabelEncoder), Imputation (filling missing categories)\n",
    "Text\tText vectorization (CountVectorizer, TF-IDF)\n",
    "Date/Time\tExtracting features like year, month, day"
   ]
  },
  {
   "cell_type": "markdown",
   "id": "80566451-c93b-4d10-9b18-445e75add9fb",
   "metadata": {},
   "source": [
    "# How is Column Transformation Done?\n",
    "Python’s scikit-learn library provides a tool called ColumnTransformer that allows you to specify which transformation to apply on which columns in one place."
   ]
  },
  {
   "cell_type": "code",
   "execution_count": 3,
   "id": "d3634087-e45e-4b16-a02d-b9aff70055b8",
   "metadata": {},
   "outputs": [],
   "source": [
    "import pandas as pd\n",
    "from sklearn.compose import ColumnTransformer\n",
    "from sklearn.preprocessing import StandardScaler, OneHotEncoder\n",
    "import seaborn as sns\n",
    "\n",
    "# Load dataset\n",
    "titanic = sns.load_dataset('titanic')\n",
    "\n",
    "# Select features\n",
    "X = titanic[['age', 'fare', 'sex', 'embarked']]\n",
    "\n",
    "X = titanic[['age', 'fare', 'sex', 'embarked']]\n",
    "\n",
    "# Correct way to fill missing values without warning\n",
    "titanic['age'] = titanic['age'].fillna(titanic['age'].mean())\n",
    "titanic['fare'] = titanic['fare'].fillna(titanic['fare'].mean())\n",
    "titanic['embarked'] = titanic['embarked'].fillna('S')\n",
    "\n",
    "X = titanic[['age', 'fare', 'sex', 'embarked']]\n",
    "\n",
    "# Define which columns are numeric and which are categorical\n",
    "numeric_cols = ['age', 'fare']\n",
    "categorical_cols = ['sex', 'embarked']\n",
    "\n",
    "# Define column transformer\n",
    "preprocessor = ColumnTransformer(\n",
    "    transformers=[\n",
    "        ('num', StandardScaler(), numeric_cols),\n",
    "        ('cat', OneHotEncoder(), categorical_cols)\n",
    "    ])\n",
    "\n",
    "# Apply transformations\n",
    "X_processed = preprocessor.fit_transform(X)\n"
   ]
  }
 ],
 "metadata": {
  "kernelspec": {
   "display_name": "Python 3 (ipykernel)",
   "language": "python",
   "name": "python3"
  },
  "language_info": {
   "codemirror_mode": {
    "name": "ipython",
    "version": 3
   },
   "file_extension": ".py",
   "mimetype": "text/x-python",
   "name": "python",
   "nbconvert_exporter": "python",
   "pygments_lexer": "ipython3",
   "version": "3.13.1"
  }
 },
 "nbformat": 4,
 "nbformat_minor": 5
}
