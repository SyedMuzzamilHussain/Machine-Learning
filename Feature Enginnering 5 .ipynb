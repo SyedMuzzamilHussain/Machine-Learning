{
 "cells": [
  {
   "cell_type": "markdown",
   "id": "f3c7f214-ea77-4e03-b891-ebcecd813534",
   "metadata": {},
   "source": [
    "# 🔹 What is Feature Engineering?\n",
    "Feature Engineering is the process of:\n",
    "\n",
    "Creating or modifying input data (features) to help the machine learning model work better."
   ]
  },
  {
   "cell_type": "markdown",
   "id": "fbbf7829-9b3a-4cdc-a4b2-408212038149",
   "metadata": {},
   "source": [
    "# 🔹 Why is it Important?\n",
    "\n",
    "Raw data is not always useful.\n",
    "\n",
    "Models need clean, meaningful, numeric inputs.\n",
    "\n",
    "Feature Engineering helps the model:\n",
    "\n",
    "Understand the problem better.\n",
    "\n",
    "Perform well (higher accuracy).\n",
    "\n",
    "Learn faster."
   ]
  },
  {
   "cell_type": "markdown",
   "id": "a904f790-971f-41b6-a700-72ef11f4fe5a",
   "metadata": {},
   "source": [
    "# 🧱 Types of Feature Engineering\n",
    "\n"
   ]
  },
  {
   "cell_type": "raw",
   "id": "d2f6804d-5cc2-447f-ae90-5f2fe4f3a4b0",
   "metadata": {},
   "source": [
    "1. 🧹 Handling Missing Data\n",
    "Real-world data often has empty values.\n",
    "Common methods:\n",
    "\n",
    "Fill (Impute):\n",
    "Fill with average (mean), median, mode, or a fixed value.\n",
    "\n",
    "Remove Rows/Columns:\n",
    "If too much data is missing, remove it."
   ]
  },
  {
   "cell_type": "raw",
   "id": "fe917e64-cadd-4ad5-b91c-255e49c6d1a1",
   "metadata": {},
   "source": [
    "2. 🔁 Encoding Categorical Features\n",
    "ML models need numbers, not text.\n",
    "\n",
    "Category\tConvert To\n",
    "Male, Female\t0, 1 (Label Encoding)\n",
    "Red, Green, Blue\t[1,0,0], [0,1,0], [0,0,1] (One-Hot Encoding)"
   ]
  },
  {
   "cell_type": "raw",
   "id": "08ae0c47-ea1d-4e5d-a273-963f9be48e14",
   "metadata": {},
   "source": [
    "3. 🎯 Feature Scaling\n",
    "Makes sure all features are on similar scale.\n",
    "\n",
    "Example: Age (0–100), Salary (0–1,00,000)\n",
    "Techniques:\n",
    "\n",
    "Normalization (0 to 1 range)\n",
    "\n",
    "Standardization (mean=0, std=1)"
   ]
  },
  {
   "cell_type": "code",
   "execution_count": 2,
   "id": "713e2d67-b119-4775-adee-fe11f4eae58f",
   "metadata": {},
   "outputs": [],
   "source": [
    "import numpy as np\n",
    "import pandas as pd"
   ]
  },
  {
   "cell_type": "code",
   "execution_count": 3,
   "id": "c2dbb097-2d24-447a-b34a-4f44cfac55de",
   "metadata": {},
   "outputs": [],
   "source": [
    "df = pd.read_csv(\"placement.csv\")"
   ]
  },
  {
   "cell_type": "code",
   "execution_count": 4,
   "id": "3c89aa62-86a5-4c7e-a809-cebee4d89b1d",
   "metadata": {},
   "outputs": [
    {
     "data": {
      "text/html": [
       "<div>\n",
       "<style scoped>\n",
       "    .dataframe tbody tr th:only-of-type {\n",
       "        vertical-align: middle;\n",
       "    }\n",
       "\n",
       "    .dataframe tbody tr th {\n",
       "        vertical-align: top;\n",
       "    }\n",
       "\n",
       "    .dataframe thead th {\n",
       "        text-align: right;\n",
       "    }\n",
       "</style>\n",
       "<table border=\"1\" class=\"dataframe\">\n",
       "  <thead>\n",
       "    <tr style=\"text-align: right;\">\n",
       "      <th></th>\n",
       "      <th>cgpa</th>\n",
       "      <th>resume_score</th>\n",
       "      <th>placed</th>\n",
       "    </tr>\n",
       "  </thead>\n",
       "  <tbody>\n",
       "    <tr>\n",
       "      <th>0</th>\n",
       "      <td>8.14</td>\n",
       "      <td>6.52</td>\n",
       "      <td>1</td>\n",
       "    </tr>\n",
       "    <tr>\n",
       "      <th>1</th>\n",
       "      <td>6.17</td>\n",
       "      <td>5.17</td>\n",
       "      <td>0</td>\n",
       "    </tr>\n",
       "    <tr>\n",
       "      <th>2</th>\n",
       "      <td>8.27</td>\n",
       "      <td>8.86</td>\n",
       "      <td>1</td>\n",
       "    </tr>\n",
       "    <tr>\n",
       "      <th>3</th>\n",
       "      <td>6.88</td>\n",
       "      <td>7.27</td>\n",
       "      <td>1</td>\n",
       "    </tr>\n",
       "    <tr>\n",
       "      <th>4</th>\n",
       "      <td>7.52</td>\n",
       "      <td>7.30</td>\n",
       "      <td>1</td>\n",
       "    </tr>\n",
       "  </tbody>\n",
       "</table>\n",
       "</div>"
      ],
      "text/plain": [
       "   cgpa  resume_score  placed\n",
       "0  8.14          6.52       1\n",
       "1  6.17          5.17       0\n",
       "2  8.27          8.86       1\n",
       "3  6.88          7.27       1\n",
       "4  7.52          7.30       1"
      ]
     },
     "execution_count": 4,
     "metadata": {},
     "output_type": "execute_result"
    }
   ],
   "source": [
    "df.head() #top 5 data "
   ]
  },
  {
   "cell_type": "code",
   "execution_count": 5,
   "id": "6bdf5f14-847f-4829-afb1-e5d4281e276b",
   "metadata": {},
   "outputs": [
    {
     "data": {
      "text/html": [
       "<div>\n",
       "<style scoped>\n",
       "    .dataframe tbody tr th:only-of-type {\n",
       "        vertical-align: middle;\n",
       "    }\n",
       "\n",
       "    .dataframe tbody tr th {\n",
       "        vertical-align: top;\n",
       "    }\n",
       "\n",
       "    .dataframe thead th {\n",
       "        text-align: right;\n",
       "    }\n",
       "</style>\n",
       "<table border=\"1\" class=\"dataframe\">\n",
       "  <thead>\n",
       "    <tr style=\"text-align: right;\">\n",
       "      <th></th>\n",
       "      <th>cgpa</th>\n",
       "      <th>resume_score</th>\n",
       "    </tr>\n",
       "  </thead>\n",
       "  <tbody>\n",
       "    <tr>\n",
       "      <th>0</th>\n",
       "      <td>8.14</td>\n",
       "      <td>6.52</td>\n",
       "    </tr>\n",
       "    <tr>\n",
       "      <th>1</th>\n",
       "      <td>6.17</td>\n",
       "      <td>5.17</td>\n",
       "    </tr>\n",
       "    <tr>\n",
       "      <th>2</th>\n",
       "      <td>8.27</td>\n",
       "      <td>8.86</td>\n",
       "    </tr>\n",
       "    <tr>\n",
       "      <th>3</th>\n",
       "      <td>6.88</td>\n",
       "      <td>7.27</td>\n",
       "    </tr>\n",
       "    <tr>\n",
       "      <th>4</th>\n",
       "      <td>7.52</td>\n",
       "      <td>7.30</td>\n",
       "    </tr>\n",
       "    <tr>\n",
       "      <th>...</th>\n",
       "      <td>...</td>\n",
       "      <td>...</td>\n",
       "    </tr>\n",
       "    <tr>\n",
       "      <th>95</th>\n",
       "      <td>6.33</td>\n",
       "      <td>6.38</td>\n",
       "    </tr>\n",
       "    <tr>\n",
       "      <th>96</th>\n",
       "      <td>8.23</td>\n",
       "      <td>7.76</td>\n",
       "    </tr>\n",
       "    <tr>\n",
       "      <th>97</th>\n",
       "      <td>6.65</td>\n",
       "      <td>7.78</td>\n",
       "    </tr>\n",
       "    <tr>\n",
       "      <th>98</th>\n",
       "      <td>8.14</td>\n",
       "      <td>5.63</td>\n",
       "    </tr>\n",
       "    <tr>\n",
       "      <th>99</th>\n",
       "      <td>6.09</td>\n",
       "      <td>6.61</td>\n",
       "    </tr>\n",
       "  </tbody>\n",
       "</table>\n",
       "<p>100 rows × 2 columns</p>\n",
       "</div>"
      ],
      "text/plain": [
       "    cgpa  resume_score\n",
       "0   8.14          6.52\n",
       "1   6.17          5.17\n",
       "2   8.27          8.86\n",
       "3   6.88          7.27\n",
       "4   7.52          7.30\n",
       "..   ...           ...\n",
       "95  6.33          6.38\n",
       "96  8.23          7.76\n",
       "97  6.65          7.78\n",
       "98  8.14          5.63\n",
       "99  6.09          6.61\n",
       "\n",
       "[100 rows x 2 columns]"
      ]
     },
     "execution_count": 5,
     "metadata": {},
     "output_type": "execute_result"
    }
   ],
   "source": [
    "# Data Dividation\n",
    "x = df.drop(columns = ['placed']) #Input data\n",
    "x"
   ]
  },
  {
   "cell_type": "code",
   "execution_count": 6,
   "id": "ccbe0a58-6198-4f79-9e6e-d573d52c070d",
   "metadata": {},
   "outputs": [
    {
     "data": {
      "text/plain": [
       "0     1\n",
       "1     0\n",
       "2     1\n",
       "3     1\n",
       "4     1\n",
       "     ..\n",
       "95    0\n",
       "96    1\n",
       "97    0\n",
       "98    1\n",
       "99    0\n",
       "Name: placed, Length: 100, dtype: int64"
      ]
     },
     "execution_count": 6,
     "metadata": {},
     "output_type": "execute_result"
    }
   ],
   "source": [
    "y = df['placed'] #Target data\n",
    "y"
   ]
  },
  {
   "cell_type": "code",
   "execution_count": null,
   "id": "009dd05e-6cd4-43ce-8b24-ec53eab505e9",
   "metadata": {},
   "outputs": [],
   "source": [
    "from sklearn.model_selection import train_test_split"
   ]
  },
  {
   "cell_type": "code",
   "execution_count": null,
   "id": "27fdce52-ef02-46b2-8c98-6b25e4ebca95",
   "metadata": {},
   "outputs": [],
   "source": [
    "x_train, x_test, y_train, y_test = train_test_split(x,\n",
    "                                                   y,\n",
    "                                                   test_size = 0.2,\n",
    "                                                   random_state = 42)"
   ]
  },
  {
   "cell_type": "code",
   "execution_count": null,
   "id": "3820c754-7430-48f6-8fb9-70f61f7ce87c",
   "metadata": {},
   "outputs": [],
   "source": [
    "print(\"Total DataFrame Shape :\",df.shape)\n",
    "print(\"-----------------------\")\n",
    "print(\"-----------------------\")\n",
    "\n",
    "print(\"Input data (x) shape : \",x.shape)\n",
    "print(\"x_train data shape : \",x_train.shape)\n",
    "print(\"x_test data shape : \",x_test.shape)\n",
    "print(\"-----------------------\")\n",
    "print(\"Target data (y) shape : \",y.shape)\n",
    "print(\"x_train data shape : \",y_train.shape)\n",
    "print(\"x_test data shape : \",y_test.shape)\n",
    "print(\"-----------------------\")"
   ]
  },
  {
   "cell_type": "code",
   "execution_count": null,
   "id": "2a29fdf6-8338-4078-bb9b-dc4b409a387a",
   "metadata": {},
   "outputs": [],
   "source": [
    "np.round(x_train.describe(), 2)\n",
    "\n",
    "# np.round(x_train.describe(), 2)` gives summary statistics (like mean, std, min, max) of the `x_train` data, rounded to 2 decimal places.\n"
   ]
  },
  {
   "cell_type": "code",
   "execution_count": null,
   "id": "9f20bb53-8c14-459b-9757-eff284dcbbcb",
   "metadata": {},
   "outputs": [],
   "source": [
    "from sklearn.preprocessing import StandardScaler #it is used to do standard deviation values 1 "
   ]
  },
  {
   "cell_type": "code",
   "execution_count": null,
   "id": "786b6cd7-99d5-40f7-8b03-865eacc0ee53",
   "metadata": {},
   "outputs": [],
   "source": [
    "sc = StandardScaler()"
   ]
  },
  {
   "cell_type": "code",
   "execution_count": null,
   "id": "605f1055-f029-4b6d-9e34-759f9c311622",
   "metadata": {},
   "outputs": [],
   "source": [
    "x_train_sc = sc.fit_transform(x_train) ###fit means learn the parameters and transform means apply on the data."
   ]
  },
  {
   "cell_type": "code",
   "execution_count": null,
   "id": "bedaaeae-aaaf-48ac-a69d-b3d6d479f2c0",
   "metadata": {},
   "outputs": [],
   "source": [
    "x_train_new = pd.DataFrame(x_train_sc, columns = x_train.columns) #converting to dataframe"
   ]
  },
  {
   "cell_type": "code",
   "execution_count": null,
   "id": "b0056d79-c84b-489d-aa05-725c3258fe4a",
   "metadata": {},
   "outputs": [],
   "source": [
    "np.round(x_train_new.describe(), 2) #2 denotes the numbers after points how many numbers after points"
   ]
  },
  {
   "cell_type": "code",
   "execution_count": null,
   "id": "338a0cfe-1b0d-456c-b6b8-1b4165ada292",
   "metadata": {},
   "outputs": [],
   "source": []
  }
 ],
 "metadata": {
  "kernelspec": {
   "display_name": "Python 3 (ipykernel)",
   "language": "python",
   "name": "python3"
  },
  "language_info": {
   "codemirror_mode": {
    "name": "ipython",
    "version": 3
   },
   "file_extension": ".py",
   "mimetype": "text/x-python",
   "name": "python",
   "nbconvert_exporter": "python",
   "pygments_lexer": "ipython3",
   "version": "3.13.1"
  }
 },
 "nbformat": 4,
 "nbformat_minor": 5
}
