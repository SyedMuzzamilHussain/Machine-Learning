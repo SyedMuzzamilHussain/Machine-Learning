{
 "cells": [
  {
   "cell_type": "markdown",
   "id": "b30c61de-4396-47c4-aa87-78186580dc6d",
   "metadata": {},
   "source": [
    "# 🔤 What is Encoding?\n",
    "\n",
    "Encoding means converting something into a new format (usually numbers) so that a computer can understand it.\n",
    "\n",
    "Computers only understand numbers — not Hindi, English, or text.\n",
    "So, when we use text or categories (like \"male\", \"female\", or \"red\", \"blue\"), we must convert them into numbers — this process is called encoding."
   ]
  },
  {
   "cell_type": "markdown",
   "id": "d9d2f675-7245-4adf-8f7a-4ddbbb96f80e",
   "metadata": {},
   "source": [
    "# 🔧 Types of Encoding (In Simple English):\n",
    "\n",
    "# 1. Label Encoding:\n",
    "Each category is given a unique number.\n",
    "\n",
    "Example:"
   ]
  },
  {
   "cell_type": "code",
   "execution_count": null,
   "id": "8cd192d6-b72b-4372-92be-f3f474d16d2d",
   "metadata": {},
   "outputs": [],
   "source": [
    "# red    → 0  \n",
    "# green  → 1  \n",
    "# blue   → 2\n",
    "\n",
    "# 🧠 When to use? When there’s a natural order among the categories (like \"low\", \"medium\", \"high\")."
   ]
  },
  {
   "cell_type": "markdown",
   "id": "c29a57a5-8a26-4697-930c-6a23d54b9cf5",
   "metadata": {},
   "source": [
    "# ✅ 1. Label Encoding using sklearn"
   ]
  },
  {
   "cell_type": "code",
   "execution_count": 4,
   "id": "8c55e4ae-e96a-4bd4-867d-c8365adb75a5",
   "metadata": {},
   "outputs": [
    {
     "name": "stdout",
     "output_type": "stream",
     "text": [
      "   Color  Color_Label\n",
      "0    Red            2\n",
      "1   Blue            0\n",
      "2  Green            1\n",
      "3   Blue            0\n",
      "4    Red            2\n"
     ]
    }
   ],
   "source": [
    "import pandas as pd\n",
    "from sklearn.preprocessing import LabelEncoder\n",
    "\n",
    "# Sample data\n",
    "data = pd.DataFrame({\n",
    "    'Color': ['Red', 'Blue', 'Green', 'Blue', 'Red']\n",
    "})\n",
    "\n",
    "# Label Encoding\n",
    "le = LabelEncoder()\n",
    "data['Color_Label'] = le.fit_transform(data['Color'])\n",
    "\n",
    "print(data)\n"
   ]
  },
  {
   "cell_type": "markdown",
   "id": "1f9b973f-5c41-4867-974e-95fe92adb5fb",
   "metadata": {},
   "source": [
    "# 🔍 Explanation:\n",
    "First, we created a LabelEncoder() object.\n",
    "\n",
    "Then, we used fit_transform() to convert text into numbers.\n",
    "\n",
    "Each unique category was assigned a unique number:\n",
    "\n",
    "📌 Note: The model might assume 2 > 1 > 0 (i.e., Red > Green > Blue), which may not be true. If order doesn't matter, prefer One-Hot Encoding."
   ]
  },
  {
   "cell_type": "markdown",
   "id": "19a68779-9481-493c-a6eb-98dc8711c930",
   "metadata": {},
   "source": [
    "# 2. One-Hot Encoding:\n",
    "\n",
    "For each category, a separate binary column (1 or 0) is created.\n",
    "\n",
    "Example:"
   ]
  },
  {
   "cell_type": "code",
   "execution_count": 2,
   "id": "b8e31a16-bc7a-408a-8c3f-58ead977fa37",
   "metadata": {},
   "outputs": [],
   "source": [
    "# red    → [1, 0, 0]  \n",
    "# green  → [0, 1, 0]  \n",
    "# blue   → [0, 0, 1]\n",
    "\n",
    "# 🧠 When to use? When there is no order among categories (like colors, cities, or countries)."
   ]
  },
  {
   "cell_type": "markdown",
   "id": "5cb7ff50-875b-4d52-ab20-ee0832c4be5f",
   "metadata": {},
   "source": [
    "# ✅ 2. One-Hot Encoding using pandas"
   ]
  },
  {
   "cell_type": "code",
   "execution_count": 5,
   "id": "fc9b8c70-2663-4e67-8890-2b1e712f7406",
   "metadata": {},
   "outputs": [
    {
     "name": "stdout",
     "output_type": "stream",
     "text": [
      "   Color_Blue  Color_Green  Color_Red\n",
      "0       False        False       True\n",
      "1        True        False      False\n",
      "2       False         True      False\n",
      "3        True        False      False\n",
      "4       False        False       True\n"
     ]
    }
   ],
   "source": [
    "import pandas as pd\n",
    "\n",
    "# Sample data\n",
    "data = pd.DataFrame({\n",
    "    'Color': ['Red', 'Blue', 'Green', 'Blue', 'Red']\n",
    "})\n",
    "\n",
    "# One-Hot Encoding\n",
    "data_encoded = pd.get_dummies(data, columns=['Color'])\n",
    "\n",
    "print(data_encoded)\n"
   ]
  },
  {
   "cell_type": "markdown",
   "id": "0fa8e782-0cce-4f0b-92e3-c5bd7a01d862",
   "metadata": {},
   "source": [
    "# 🔍 Explanation:\n",
    "We used pd.get_dummies() to create a separate column for each category.\n",
    "\n",
    "For each row, the column corresponding to its category is marked as 1, others are 0."
   ]
  },
  {
   "cell_type": "markdown",
   "id": "d1f40f4b-8569-4f29-bc13-27fca29a2a7d",
   "metadata": {},
   "source": [
    "# 3. Ordinal Encoding:\n",
    "Similar to label encoding, but it preserves the order of categories.\n",
    "\n",
    "Example:"
   ]
  },
  {
   "cell_type": "code",
   "execution_count": 6,
   "id": "c3f6f15f-260f-4a10-b5ac-7101814ccc73",
   "metadata": {},
   "outputs": [],
   "source": [
    "# Low     → 1  \n",
    "# Medium  → 2  \n",
    "# High    → 3\n",
    "\n",
    "# 🧠 When to use? When the categories have a meaningful sequence or ranking."
   ]
  },
  {
   "cell_type": "markdown",
   "id": "5dd4daf4-9b42-484b-8fe0-6e3394d0f122",
   "metadata": {},
   "source": [
    "# ✅ 3. One-Hot Encoding using sklearn"
   ]
  },
  {
   "cell_type": "code",
   "execution_count": 8,
   "id": "12960c9d-bc9a-4fe9-80a7-8f66efc382f6",
   "metadata": {},
   "outputs": [
    {
     "name": "stdout",
     "output_type": "stream",
     "text": [
      "   Color  Color_Blue  Color_Green  Color_Red\n",
      "0    Red         0.0          0.0        1.0\n",
      "1   Blue         1.0          0.0        0.0\n",
      "2  Green         0.0          1.0        0.0\n",
      "3   Blue         1.0          0.0        0.0\n",
      "4    Red         0.0          0.0        1.0\n"
     ]
    }
   ],
   "source": [
    "from sklearn.preprocessing import OneHotEncoder\n",
    "\n",
    "# Sample data\n",
    "data = pd.DataFrame({\n",
    "    'Color': ['Red', 'Blue', 'Green', 'Blue', 'Red']\n",
    "})\n",
    "\n",
    "# OneHotEncoder needs a 2D array\n",
    "ohe = OneHotEncoder(sparse_output=False)\n",
    "encoded_array = ohe.fit_transform(data[['Color']])\n",
    "\n",
    "# Convert array to DataFrame\n",
    "encoded_df = pd.DataFrame(encoded_array, columns=ohe.get_feature_names_out(['Color']))\n",
    "\n",
    "# Combine with original data (optional)\n",
    "final_data = pd.concat([data, encoded_df], axis=1)\n",
    "\n",
    "print(final_data)\n"
   ]
  },
  {
   "cell_type": "markdown",
   "id": "10e77493-138f-4810-9df9-79a702a4c91d",
   "metadata": {},
   "source": [
    "# 🔍 Explanation:\n",
    "\n",
    "We created a OneHotEncoder() object.\n",
    "\n",
    "fit_transform() was used to convert categories into binary vectors.\n",
    "\n",
    "sparse=False was used to return a regular array instead of a sparse matrix.\n",
    "\n",
    "Column names were automatically generated using get_feature_names_out()."
   ]
  },
  {
   "cell_type": "markdown",
   "id": "f7c36cf9-0a33-446a-8ad2-a13d26a8666a",
   "metadata": {},
   "source": [
    "# 💡 Real-Life Example:\n",
    "\n",
    "Suppose you have a column with gender values:\n",
    "[\"Male\", \"Female\", \"Female\", \"Male\"]\n",
    "\n",
    "Label Encoding: [\"Male\", \"Female\", \"Female\", \"Male\"] → [1, 0, 0, 1]\n",
    "\n",
    "One-Hot Encoding:\n",
    "Male   → [1, 0]  \n",
    "Female → [0, 1]\n"
   ]
  },
  {
   "cell_type": "code",
   "execution_count": null,
   "id": "3dfc520f-fe15-4316-8231-98a183d35104",
   "metadata": {},
   "outputs": [],
   "source": []
  }
 ],
 "metadata": {
  "kernelspec": {
   "display_name": "Python 3 (ipykernel)",
   "language": "python",
   "name": "python3"
  },
  "language_info": {
   "codemirror_mode": {
    "name": "ipython",
    "version": 3
   },
   "file_extension": ".py",
   "mimetype": "text/x-python",
   "name": "python",
   "nbconvert_exporter": "python",
   "pygments_lexer": "ipython3",
   "version": "3.13.1"
  }
 },
 "nbformat": 4,
 "nbformat_minor": 5
}
