{
 "cells": [
  {
   "cell_type": "markdown",
   "id": "7d04a02a-5daa-4d8e-954b-0604fb9c8234",
   "metadata": {},
   "source": [
    "# Data Distribution"
   ]
  },
  {
   "cell_type": "markdown",
   "id": "b3337f3c-b07e-42b9-bf63-01138208e17f",
   "metadata": {},
   "source": [
    "In machine learning, data division (also called data splitting) is the process of dividing your dataset into different subsets so you can train and evaluate your model properly. It helps prevent overfitting, ensures generalization, and helps measure the true performance of your model on unseen data."
   ]
  },
  {
   "cell_type": "markdown",
   "id": "305c14a1-d538-46b9-9cb1-22a92cb335f6",
   "metadata": {},
   "source": [
    "# 🔹 Common Types of Data Division:\n",
    "# Training Set\n",
    "\n",
    "Used to train the machine learning model.\n",
    "\n",
    "The model learns patterns, weights, and relationships from this data.\n",
    "\n",
    "Usually makes up 60–80% of the total dataset."
   ]
  },
  {
   "cell_type": "markdown",
   "id": "35f2e7ff-8808-4dc2-9cd1-188e2e3295b1",
   "metadata": {},
   "source": [
    "# Test Set\n",
    "Used to evaluate the final model's performance after training.\n",
    "\n",
    "It should never be seen or used during training or hyperparameter tuning.\n",
    "\n",
    "Usually 10–20% of the dataset.\n",
    "\n"
   ]
  },
  {
   "cell_type": "code",
   "execution_count": 1,
   "id": "ad1daa5a-78db-4873-b9e4-00120186930c",
   "metadata": {},
   "outputs": [],
   "source": [
    "# We Divide our data to train our machine we have to give it input and target\n",
    "\n",
    "# Data ---- Independent data (x) , Dependent data (y)\n",
    "\n",
    "# x ----> x_training data, x_testing data\n",
    "# y ----> y_training data, y_testing data\n",
    "\n",
    "# Machine ----> for training ---->(x_training,y_training)\n",
    "# 2+2=4\n",
    "# 3+2=5\n",
    "\n",
    "# Machine ----> for prediction ---->(x_testing,y_testing)\n",
    "# 6+5= ???\n",
    "# (y_test) = 11"
   ]
  },
  {
   "cell_type": "markdown",
   "id": "d40bb951-24bd-43af-9d2c-804e437c42a7",
   "metadata": {},
   "source": [
    "# 🔹 What is Dataset?\n",
    "A dataset is a collection of data used to train and test a machine learning model.\n",
    "It usually has:\n",
    "\n",
    "Input features (independent variables) → e.g., house size, number of bedrooms\n",
    "\n",
    "Output/label (dependent variable) → e.g., price\n",
    "\n"
   ]
  },
  {
   "cell_type": "markdown",
   "id": "ac3fba8d-d6f5-4abb-95f0-a702f205a944",
   "metadata": {},
   "source": [
    "# 🔹 What is Data Splitting?\n",
    "We divide the dataset into two parts:\n",
    "\n",
    "Training Set → used to teach the model\n",
    "\n",
    "Testing Set → used to check how well the model learned\n"
   ]
  },
  {
   "cell_type": "raw",
   "id": "6409f632-e2bb-497f-8abf-587c06406ea6",
   "metadata": {},
   "source": [
    "# 🔹 Terms Explained\n",
    "Term\tMeaning\t                     Used For\n",
    "X_train\tInput features for training\tModel learning\n",
    "y_train\tOutput labels for training\tCorrect answers\n",
    "X_test\tInput features for testing\tModel testing\n",
    "y_test\tOutput labels for testing\tCompare predictions"
   ]
  },
  {
   "cell_type": "markdown",
   "id": "12188b50-40e3-4938-bded-3808a7354ae4",
   "metadata": {},
   "source": [
    "# 🔹 Why Split the Data?\n",
    "To train the model on one part (X_train, y_train)\n",
    "\n",
    "To test accuracy on new unseen data (X_test, y_test)\n",
    "\n",
    "To avoid overfitting (when model memorizes training data but performs badly on new data)\n",
    "\n"
   ]
  },
  {
   "cell_type": "code",
   "execution_count": 3,
   "id": "5433cb72-4eba-44de-a487-b9ce5d491338",
   "metadata": {},
   "outputs": [],
   "source": [
    "import numpy as np\n",
    "import pandas as pd"
   ]
  },
  {
   "cell_type": "code",
   "execution_count": 4,
   "id": "e7a2f497-6e39-4b9a-b349-b1495806ec5b",
   "metadata": {},
   "outputs": [],
   "source": [
    "df = pd.read_csv(\"placement.csv\")"
   ]
  },
  {
   "cell_type": "code",
   "execution_count": 5,
   "id": "c933ab57-5588-4323-9e5f-963494008048",
   "metadata": {},
   "outputs": [
    {
     "data": {
      "text/html": [
       "<div>\n",
       "<style scoped>\n",
       "    .dataframe tbody tr th:only-of-type {\n",
       "        vertical-align: middle;\n",
       "    }\n",
       "\n",
       "    .dataframe tbody tr th {\n",
       "        vertical-align: top;\n",
       "    }\n",
       "\n",
       "    .dataframe thead th {\n",
       "        text-align: right;\n",
       "    }\n",
       "</style>\n",
       "<table border=\"1\" class=\"dataframe\">\n",
       "  <thead>\n",
       "    <tr style=\"text-align: right;\">\n",
       "      <th></th>\n",
       "      <th>cgpa</th>\n",
       "      <th>resume_score</th>\n",
       "      <th>placed</th>\n",
       "    </tr>\n",
       "  </thead>\n",
       "  <tbody>\n",
       "    <tr>\n",
       "      <th>0</th>\n",
       "      <td>8.14</td>\n",
       "      <td>6.52</td>\n",
       "      <td>1</td>\n",
       "    </tr>\n",
       "    <tr>\n",
       "      <th>1</th>\n",
       "      <td>6.17</td>\n",
       "      <td>5.17</td>\n",
       "      <td>0</td>\n",
       "    </tr>\n",
       "    <tr>\n",
       "      <th>2</th>\n",
       "      <td>8.27</td>\n",
       "      <td>8.86</td>\n",
       "      <td>1</td>\n",
       "    </tr>\n",
       "    <tr>\n",
       "      <th>3</th>\n",
       "      <td>6.88</td>\n",
       "      <td>7.27</td>\n",
       "      <td>1</td>\n",
       "    </tr>\n",
       "    <tr>\n",
       "      <th>4</th>\n",
       "      <td>7.52</td>\n",
       "      <td>7.30</td>\n",
       "      <td>1</td>\n",
       "    </tr>\n",
       "  </tbody>\n",
       "</table>\n",
       "</div>"
      ],
      "text/plain": [
       "   cgpa  resume_score  placed\n",
       "0  8.14          6.52       1\n",
       "1  6.17          5.17       0\n",
       "2  8.27          8.86       1\n",
       "3  6.88          7.27       1\n",
       "4  7.52          7.30       1"
      ]
     },
     "execution_count": 5,
     "metadata": {},
     "output_type": "execute_result"
    }
   ],
   "source": [
    "df.head() #gives top 5 data"
   ]
  },
  {
   "cell_type": "code",
   "execution_count": 6,
   "id": "c353b524-63d7-4efb-ad38-1600d17bedbf",
   "metadata": {},
   "outputs": [
    {
     "data": {
      "text/plain": [
       "(100, 3)"
      ]
     },
     "execution_count": 6,
     "metadata": {},
     "output_type": "execute_result"
    }
   ],
   "source": [
    "df.shape #rows and columns"
   ]
  },
  {
   "cell_type": "code",
   "execution_count": 7,
   "id": "c180f126-8d42-442e-961a-f39a8ef1feb1",
   "metadata": {},
   "outputs": [
    {
     "data": {
      "text/plain": [
       "cgpa            0\n",
       "resume_score    0\n",
       "placed          0\n",
       "dtype: int64"
      ]
     },
     "execution_count": 7,
     "metadata": {},
     "output_type": "execute_result"
    }
   ],
   "source": [
    "df.isnull().sum()"
   ]
  },
  {
   "cell_type": "markdown",
   "id": "dec6d4e9-1b2d-40ec-b782-fa146c40343c",
   "metadata": {},
   "source": [
    "# Dividing Dataset"
   ]
  },
  {
   "cell_type": "code",
   "execution_count": 8,
   "id": "eaa4be0e-d328-4f56-b8d4-b294c21c5bd7",
   "metadata": {},
   "outputs": [],
   "source": [
    "x = df.drop(columns = ['placed']) #input columns\n",
    "y = df['placed'] #target data"
   ]
  },
  {
   "cell_type": "code",
   "execution_count": 9,
   "id": "b92fcdcd-939f-4dcf-88af-221e98e954a3",
   "metadata": {},
   "outputs": [],
   "source": [
    "from sklearn.model_selection import train_test_split #helps us to divide data"
   ]
  },
  {
   "cell_type": "code",
   "execution_count": 10,
   "id": "abe5ffa8-f509-47ba-89f9-0aa5e2abf890",
   "metadata": {},
   "outputs": [],
   "source": [
    "x_train, x_test, y_train, y_test = train_test_split(x,\n",
    "                                                   y,\n",
    "                                                   test_size = 0.2,\n",
    "                                                   random_state = 42)"
   ]
  },
  {
   "cell_type": "code",
   "execution_count": 11,
   "id": "73b6007f-f45d-4467-8fb4-712afa6c3d82",
   "metadata": {},
   "outputs": [
    {
     "name": "stdout",
     "output_type": "stream",
     "text": [
      "Total DataFrame Shape : (100, 3)\n",
      "-----------------------\n",
      "-----------------------\n",
      "Input data (x) shape :  (100, 2)\n",
      "x_train data shape :  (80, 2)\n",
      "x_test data shape :  (20, 2)\n",
      "-----------------------\n",
      "Target data (y) shape :  (100,)\n",
      "x_train data shape :  (80,)\n",
      "x_test data shape :  (20,)\n",
      "-----------------------\n"
     ]
    }
   ],
   "source": [
    "print(\"Total DataFrame Shape :\",df.shape)\n",
    "print(\"-----------------------\")\n",
    "print(\"-----------------------\")\n",
    "\n",
    "print(\"Input data (x) shape : \",x.shape)\n",
    "print(\"x_train data shape : \",x_train.shape)\n",
    "print(\"x_test data shape : \",x_test.shape)\n",
    "print(\"-----------------------\")\n",
    "print(\"Target data (y) shape : \",y.shape)\n",
    "print(\"x_train data shape : \",y_train.shape)\n",
    "print(\"x_test data shape : \",y_test.shape)\n",
    "print(\"-----------------------\")"
   ]
  },
  {
   "cell_type": "markdown",
   "id": "6a031764-97e7-437d-8754-07851d90622b",
   "metadata": {},
   "source": [
    "# Data 2"
   ]
  },
  {
   "cell_type": "code",
   "execution_count": 12,
   "id": "46d2fba3-cf41-48d0-b237-ed9625d01b92",
   "metadata": {},
   "outputs": [],
   "source": [
    "df = pd.read_csv(\"covid_toy.csv\")"
   ]
  },
  {
   "cell_type": "code",
   "execution_count": 13,
   "id": "fc3a11cb-74dc-4247-815d-844a0e34b2cc",
   "metadata": {},
   "outputs": [
    {
     "data": {
      "text/plain": [
       "age           0\n",
       "gender        0\n",
       "fever        10\n",
       "cough         0\n",
       "city          0\n",
       "has_covid     0\n",
       "dtype: int64"
      ]
     },
     "execution_count": 13,
     "metadata": {},
     "output_type": "execute_result"
    }
   ],
   "source": [
    "df.isnull().sum()"
   ]
  },
  {
   "cell_type": "code",
   "execution_count": 16,
   "id": "160bcbbf-49f7-4c30-b86d-a50d7a2f98e8",
   "metadata": {},
   "outputs": [],
   "source": [
    "from sklearn.impute import SimpleImputer #for filling missing values."
   ]
  },
  {
   "cell_type": "code",
   "execution_count": 17,
   "id": "9b311fc0-6ee9-43a6-9711-23d04a03c6de",
   "metadata": {},
   "outputs": [],
   "source": [
    "si = SimpleImputer(strategy = 'mean') "
   ]
  },
  {
   "cell_type": "code",
   "execution_count": 18,
   "id": "ba6fe1d9-2cc9-455d-ba88-8d92ffcfd759",
   "metadata": {},
   "outputs": [],
   "source": [
    "df['fever'] = si.fit_transform(df[['fever']]) #for filling fever missing values"
   ]
  },
  {
   "cell_type": "code",
   "execution_count": 19,
   "id": "b5014827-1ddc-4dfc-a1e9-aa6728c0e49a",
   "metadata": {},
   "outputs": [
    {
     "data": {
      "text/plain": [
       "age          0\n",
       "gender       0\n",
       "fever        0\n",
       "cough        0\n",
       "city         0\n",
       "has_covid    0\n",
       "dtype: int64"
      ]
     },
     "execution_count": 19,
     "metadata": {},
     "output_type": "execute_result"
    }
   ],
   "source": [
    "df.isnull().sum()"
   ]
  },
  {
   "cell_type": "code",
   "execution_count": 20,
   "id": "30f6174b-b26c-4744-a8dc-679b76134eaf",
   "metadata": {},
   "outputs": [
    {
     "data": {
      "text/html": [
       "<div>\n",
       "<style scoped>\n",
       "    .dataframe tbody tr th:only-of-type {\n",
       "        vertical-align: middle;\n",
       "    }\n",
       "\n",
       "    .dataframe tbody tr th {\n",
       "        vertical-align: top;\n",
       "    }\n",
       "\n",
       "    .dataframe thead th {\n",
       "        text-align: right;\n",
       "    }\n",
       "</style>\n",
       "<table border=\"1\" class=\"dataframe\">\n",
       "  <thead>\n",
       "    <tr style=\"text-align: right;\">\n",
       "      <th></th>\n",
       "      <th>age</th>\n",
       "      <th>gender</th>\n",
       "      <th>fever</th>\n",
       "      <th>cough</th>\n",
       "      <th>city</th>\n",
       "      <th>has_covid</th>\n",
       "    </tr>\n",
       "  </thead>\n",
       "  <tbody>\n",
       "    <tr>\n",
       "      <th>0</th>\n",
       "      <td>60</td>\n",
       "      <td>Male</td>\n",
       "      <td>103.0</td>\n",
       "      <td>Mild</td>\n",
       "      <td>Kolkata</td>\n",
       "      <td>No</td>\n",
       "    </tr>\n",
       "    <tr>\n",
       "      <th>1</th>\n",
       "      <td>27</td>\n",
       "      <td>Male</td>\n",
       "      <td>100.0</td>\n",
       "      <td>Mild</td>\n",
       "      <td>Delhi</td>\n",
       "      <td>Yes</td>\n",
       "    </tr>\n",
       "    <tr>\n",
       "      <th>2</th>\n",
       "      <td>42</td>\n",
       "      <td>Male</td>\n",
       "      <td>101.0</td>\n",
       "      <td>Mild</td>\n",
       "      <td>Delhi</td>\n",
       "      <td>No</td>\n",
       "    </tr>\n",
       "  </tbody>\n",
       "</table>\n",
       "</div>"
      ],
      "text/plain": [
       "   age gender  fever cough     city has_covid\n",
       "0   60   Male  103.0  Mild  Kolkata        No\n",
       "1   27   Male  100.0  Mild    Delhi       Yes\n",
       "2   42   Male  101.0  Mild    Delhi        No"
      ]
     },
     "execution_count": 20,
     "metadata": {},
     "output_type": "execute_result"
    }
   ],
   "source": [
    "df.head(3)"
   ]
  },
  {
   "cell_type": "code",
   "execution_count": 21,
   "id": "d912c2ac-d226-4039-addc-29203ec3f157",
   "metadata": {},
   "outputs": [
    {
     "data": {
      "text/plain": [
       "(100, 6)"
      ]
     },
     "execution_count": 21,
     "metadata": {},
     "output_type": "execute_result"
    }
   ],
   "source": [
    "df.shape"
   ]
  },
  {
   "cell_type": "code",
   "execution_count": 23,
   "id": "403df82b-ddd5-476a-abf0-32adda38cb28",
   "metadata": {},
   "outputs": [],
   "source": [
    "x = df.drop(columns=['has_covid'])\n",
    "y = df['has_covid']"
   ]
  },
  {
   "cell_type": "code",
   "execution_count": 24,
   "id": "f8286726-380b-4076-88da-c6792bc73aad",
   "metadata": {},
   "outputs": [],
   "source": [
    "from sklearn.model_selection import train_test_split"
   ]
  },
  {
   "cell_type": "code",
   "execution_count": 25,
   "id": "28ad8d08-8f36-4c4e-bdde-67b663e58a5f",
   "metadata": {},
   "outputs": [],
   "source": [
    "x_train, x_test, y_train, y_test = train_test_split(x,\n",
    "                                                   y,\n",
    "                                                   test_size = 0.2,\n",
    "                                                   random_state = 42)"
   ]
  },
  {
   "cell_type": "code",
   "execution_count": 26,
   "id": "948810c2-bab3-46f1-ba23-097fe575be01",
   "metadata": {},
   "outputs": [
    {
     "name": "stdout",
     "output_type": "stream",
     "text": [
      "Total DataFrame Shape : (100, 6)\n",
      "-----------------------\n",
      "-----------------------\n",
      "Input data (x) shape :  (100, 5)\n",
      "x_train data shape :  (80, 5)\n",
      "x_test data shape :  (20, 5)\n",
      "-----------------------\n",
      "Target data (y) shape :  (100,)\n",
      "x_train data shape :  (80,)\n",
      "x_test data shape :  (20,)\n",
      "-----------------------\n"
     ]
    }
   ],
   "source": [
    "print(\"Total DataFrame Shape :\",df.shape)\n",
    "print(\"-----------------------\")\n",
    "print(\"-----------------------\")\n",
    "\n",
    "print(\"Input data (x) shape : \",x.shape)\n",
    "print(\"x_train data shape : \",x_train.shape)\n",
    "print(\"x_test data shape : \",x_test.shape)\n",
    "print(\"-----------------------\")\n",
    "print(\"Target data (y) shape : \",y.shape)\n",
    "print(\"x_train data shape : \",y_train.shape)\n",
    "print(\"x_test data shape : \",y_test.shape)\n",
    "print(\"-----------------------\")"
   ]
  },
  {
   "cell_type": "code",
   "execution_count": null,
   "id": "a3b038e4-dea5-419f-858b-368758b670bb",
   "metadata": {},
   "outputs": [],
   "source": []
  },
  {
   "cell_type": "code",
   "execution_count": null,
   "id": "788b71c4-af0c-4211-bb6c-82bef44d11ab",
   "metadata": {},
   "outputs": [],
   "source": []
  }
 ],
 "metadata": {
  "kernelspec": {
   "display_name": "Python 3 (ipykernel)",
   "language": "python",
   "name": "python3"
  },
  "language_info": {
   "codemirror_mode": {
    "name": "ipython",
    "version": 3
   },
   "file_extension": ".py",
   "mimetype": "text/x-python",
   "name": "python",
   "nbconvert_exporter": "python",
   "pygments_lexer": "ipython3",
   "version": "3.13.1"
  }
 },
 "nbformat": 4,
 "nbformat_minor": 5
}
