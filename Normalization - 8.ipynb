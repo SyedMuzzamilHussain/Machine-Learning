{
 "cells": [
  {
   "cell_type": "markdown",
   "id": "8c27bf00-c920-4ae7-aea5-ed0268b574fe",
   "metadata": {},
   "source": [
    "# 1. What is Normalization?\n"
   ]
  },
  {
   "cell_type": "raw",
   "id": "c96e053e-e508-4a99-a076-566245064fea",
   "metadata": {},
   "source": [
    "Normalization is a data preprocessing technique that rescales the values of numerical features to a common scale, typically between 0 and 1.\n",
    "\n",
    "This means that all feature values are transformed so that they lie within the range 0 ≤ normalized value ≤ 1."
   ]
  },
  {
   "cell_type": "markdown",
   "id": "893b4fe8-44dd-4e43-ad37-d34a7960823b",
   "metadata": {},
   "source": [
    "# 2. Why Normalize Data?"
   ]
  },
  {
   "cell_type": "raw",
   "id": "b5636b49-3645-46bf-afde-5c6e051683a0",
   "metadata": {},
   "source": [
    "Features often have different scales:\n",
    "For example, in a dataset:\n",
    "Age might range from 1 to 100\n",
    "Salary might range from 10,000 to 1,000,000\n",
    "\n",
    "These differing scales can cause problems for many machine learning algorithms that use distance calculations or gradient-based optimization.\n",
    "\n",
    "Avoid dominance of large-scale features:\n",
    "Without normalization, features with larger numerical values can dominate the learning process, leading to biased or inaccurate models.\n",
    "\n",
    "Speeds up convergence:\n",
    "Normalized data can help optimization algorithms (like gradient descent) converge faster during training.\n",
    "\n",
    "Improves performance of some ML algorithms:\n",
    "Algorithms like k-Nearest Neighbors (KNN), Neural Networks, and Support Vector Machines (SVM) are sensitive to the scale of input features.\n",
    "\n"
   ]
  },
  {
   "cell_type": "markdown",
   "id": "62b95774-454a-4e56-9338-9b7207b01ea2",
   "metadata": {},
   "source": [
    "# 3. How is Normalization Done?\n",
    "\n",
    "The most common normalization technique is Min-Max Scaling."
   ]
  },
  {
   "cell_type": "markdown",
   "id": "ccf749e9-1b74-4459-951e-bffe2940648d",
   "metadata": {},
   "source": [
    "# 4. Properties of Normalized Data\n",
    "\n",
    "Values are bounded between 0 and 1 (inclusive).\n",
    "\n",
    "Preserves the relative distribution and distances between original data points.\n",
    "\n",
    "Does not center the data around zero (unlike standardization).\n",
    "\n",
    "Sensitive to outliers, because extreme values affect the min and max.\n",
    "\n"
   ]
  },
  {
   "cell_type": "markdown",
   "id": "23a6c248-7b30-4e02-8a87-7fc3c387967d",
   "metadata": {},
   "source": [
    "# 5. When to Use Normalization?\n",
    "\n",
    "When your dataset has features with varying scales or units.\n",
    "\n",
    "When using ML algorithms that rely on distance calculations or gradients, such as:\n",
    "\n",
    "K-Nearest Neighbors (KNN)\n",
    "\n",
    "Neural Networks\n",
    "\n",
    "Support Vector Machines (SVM)\n",
    "\n",
    "Gradient descent based algorithms (e.g., Linear Regression, Logistic Regression)\n",
    "\n",
    "When your data does not follow a normal distribution.\n",
    "\n"
   ]
  },
  {
   "cell_type": "markdown",
   "id": "cdab6e53-84fc-4d2e-a5b9-9df0f53224f1",
   "metadata": {},
   "source": [
    "# 6. When NOT to Use Normalization?\n",
    "If your dataset contains outliers: Outliers distort the min and max values, causing most data to be squeezed into a narrow range.\n",
    "\n",
    "When your algorithm assumes data to be centered around zero or normally distributed: In this case, standardization is preferred."
   ]
  },
  {
   "cell_type": "code",
   "execution_count": 1,
   "id": "34ec2c9f-12a7-43a7-b838-c1921e8c52cb",
   "metadata": {},
   "outputs": [],
   "source": [
    "# Step 1: Import pandas for data handling and MinMaxScaler for normalization\n",
    "import pandas as pd\n",
    "from sklearn.preprocessing import MinMaxScaler\n"
   ]
  },
  {
   "cell_type": "code",
   "execution_count": 3,
   "id": "d009d61a-c72a-4034-9310-d8eac523f1f6",
   "metadata": {},
   "outputs": [
    {
     "data": {
      "text/html": [
       "<div>\n",
       "<style scoped>\n",
       "    .dataframe tbody tr th:only-of-type {\n",
       "        vertical-align: middle;\n",
       "    }\n",
       "\n",
       "    .dataframe tbody tr th {\n",
       "        vertical-align: top;\n",
       "    }\n",
       "\n",
       "    .dataframe thead th {\n",
       "        text-align: right;\n",
       "    }\n",
       "</style>\n",
       "<table border=\"1\" class=\"dataframe\">\n",
       "  <thead>\n",
       "    <tr style=\"text-align: right;\">\n",
       "      <th></th>\n",
       "      <th>survived</th>\n",
       "      <th>pclass</th>\n",
       "      <th>sex</th>\n",
       "      <th>age</th>\n",
       "      <th>sibsp</th>\n",
       "      <th>parch</th>\n",
       "      <th>fare</th>\n",
       "      <th>embarked</th>\n",
       "      <th>class</th>\n",
       "      <th>who</th>\n",
       "      <th>adult_male</th>\n",
       "      <th>deck</th>\n",
       "      <th>embark_town</th>\n",
       "      <th>alive</th>\n",
       "      <th>alone</th>\n",
       "    </tr>\n",
       "  </thead>\n",
       "  <tbody>\n",
       "    <tr>\n",
       "      <th>0</th>\n",
       "      <td>0</td>\n",
       "      <td>3</td>\n",
       "      <td>male</td>\n",
       "      <td>22.0</td>\n",
       "      <td>1</td>\n",
       "      <td>0</td>\n",
       "      <td>7.2500</td>\n",
       "      <td>S</td>\n",
       "      <td>Third</td>\n",
       "      <td>man</td>\n",
       "      <td>True</td>\n",
       "      <td>NaN</td>\n",
       "      <td>Southampton</td>\n",
       "      <td>no</td>\n",
       "      <td>False</td>\n",
       "    </tr>\n",
       "    <tr>\n",
       "      <th>1</th>\n",
       "      <td>1</td>\n",
       "      <td>1</td>\n",
       "      <td>female</td>\n",
       "      <td>38.0</td>\n",
       "      <td>1</td>\n",
       "      <td>0</td>\n",
       "      <td>71.2833</td>\n",
       "      <td>C</td>\n",
       "      <td>First</td>\n",
       "      <td>woman</td>\n",
       "      <td>False</td>\n",
       "      <td>C</td>\n",
       "      <td>Cherbourg</td>\n",
       "      <td>yes</td>\n",
       "      <td>False</td>\n",
       "    </tr>\n",
       "    <tr>\n",
       "      <th>2</th>\n",
       "      <td>1</td>\n",
       "      <td>3</td>\n",
       "      <td>female</td>\n",
       "      <td>26.0</td>\n",
       "      <td>0</td>\n",
       "      <td>0</td>\n",
       "      <td>7.9250</td>\n",
       "      <td>S</td>\n",
       "      <td>Third</td>\n",
       "      <td>woman</td>\n",
       "      <td>False</td>\n",
       "      <td>NaN</td>\n",
       "      <td>Southampton</td>\n",
       "      <td>yes</td>\n",
       "      <td>True</td>\n",
       "    </tr>\n",
       "    <tr>\n",
       "      <th>3</th>\n",
       "      <td>1</td>\n",
       "      <td>1</td>\n",
       "      <td>female</td>\n",
       "      <td>35.0</td>\n",
       "      <td>1</td>\n",
       "      <td>0</td>\n",
       "      <td>53.1000</td>\n",
       "      <td>S</td>\n",
       "      <td>First</td>\n",
       "      <td>woman</td>\n",
       "      <td>False</td>\n",
       "      <td>C</td>\n",
       "      <td>Southampton</td>\n",
       "      <td>yes</td>\n",
       "      <td>False</td>\n",
       "    </tr>\n",
       "    <tr>\n",
       "      <th>4</th>\n",
       "      <td>0</td>\n",
       "      <td>3</td>\n",
       "      <td>male</td>\n",
       "      <td>35.0</td>\n",
       "      <td>0</td>\n",
       "      <td>0</td>\n",
       "      <td>8.0500</td>\n",
       "      <td>S</td>\n",
       "      <td>Third</td>\n",
       "      <td>man</td>\n",
       "      <td>True</td>\n",
       "      <td>NaN</td>\n",
       "      <td>Southampton</td>\n",
       "      <td>no</td>\n",
       "      <td>True</td>\n",
       "    </tr>\n",
       "  </tbody>\n",
       "</table>\n",
       "</div>"
      ],
      "text/plain": [
       "   survived  pclass     sex   age  sibsp  parch     fare embarked  class  \\\n",
       "0         0       3    male  22.0      1      0   7.2500        S  Third   \n",
       "1         1       1  female  38.0      1      0  71.2833        C  First   \n",
       "2         1       3  female  26.0      0      0   7.9250        S  Third   \n",
       "3         1       1  female  35.0      1      0  53.1000        S  First   \n",
       "4         0       3    male  35.0      0      0   8.0500        S  Third   \n",
       "\n",
       "     who  adult_male deck  embark_town alive  alone  \n",
       "0    man        True  NaN  Southampton    no  False  \n",
       "1  woman       False    C    Cherbourg   yes  False  \n",
       "2  woman       False  NaN  Southampton   yes   True  \n",
       "3  woman       False    C  Southampton   yes  False  \n",
       "4    man        True  NaN  Southampton    no   True  "
      ]
     },
     "execution_count": 3,
     "metadata": {},
     "output_type": "execute_result"
    }
   ],
   "source": [
    "# Step 2: Load Titanic dataset from seaborn library (sample dataset)\n",
    "import seaborn as sns\n",
    "titanic = sns.load_dataset('titanic')\n",
    "titanic.head()"
   ]
  },
  {
   "cell_type": "code",
   "execution_count": 4,
   "id": "e89c4916-6cc7-4c6c-aade-5df7955da8c6",
   "metadata": {},
   "outputs": [],
   "source": [
    "# Step 3: Pick only numerical columns 'age' and 'fare' to normalize\n",
    "titanic_numeric = titanic[['age', 'fare']]\n"
   ]
  },
  {
   "cell_type": "code",
   "execution_count": 5,
   "id": "69b567e1-0924-464d-8af8-eb11c16e378e",
   "metadata": {},
   "outputs": [
    {
     "name": "stderr",
     "output_type": "stream",
     "text": [
      "C:\\Users\\User\\AppData\\Local\\Temp\\ipykernel_2452\\2291634918.py:2: SettingWithCopyWarning: \n",
      "A value is trying to be set on a copy of a slice from a DataFrame.\n",
      "Try using .loc[row_indexer,col_indexer] = value instead\n",
      "\n",
      "See the caveats in the documentation: https://pandas.pydata.org/pandas-docs/stable/user_guide/indexing.html#returning-a-view-versus-a-copy\n",
      "  titanic_numeric['age'] = titanic_numeric['age'].fillna(titanic_numeric['age'].mean())\n"
     ]
    }
   ],
   "source": [
    "# Step 4: Replace missing values in 'age' with average age (mean)\n",
    "titanic_numeric['age'] = titanic_numeric['age'].fillna(titanic_numeric['age'].mean())\n"
   ]
  },
  {
   "cell_type": "code",
   "execution_count": 6,
   "id": "41b83eaa-da8a-4055-98eb-5cc530c49fa0",
   "metadata": {},
   "outputs": [],
   "source": [
    "# Step 5: Create the scaler object to do min-max normalization\n",
    "scaler = MinMaxScaler()\n"
   ]
  },
  {
   "cell_type": "code",
   "execution_count": 11,
   "id": "a1468237-796e-4221-9acd-59c6e38a82e2",
   "metadata": {},
   "outputs": [],
   "source": [
    "# Step 6: Apply normalization - fit scaler and transform data\n",
    "titanic_normalized = scaler.fit_transform(titanic_numeric)"
   ]
  },
  {
   "cell_type": "code",
   "execution_count": 12,
   "id": "f5502e8f-f853-4a5c-b512-452a619c91b9",
   "metadata": {},
   "outputs": [],
   "source": [
    "# Step 7: Convert the normalized numpy array back to a DataFrame for easy reading\n",
    "titanic_normalized_df = pd.DataFrame(titanic_normalized, columns=titanic_numeric.columns)"
   ]
  },
  {
   "cell_type": "code",
   "execution_count": 13,
   "id": "8ed9341d-307d-4d43-8e53-69afb339abb0",
   "metadata": {},
   "outputs": [
    {
     "name": "stdout",
     "output_type": "stream",
     "text": [
      "        age      fare\n",
      "0  0.271174  0.014151\n",
      "1  0.472229  0.139136\n",
      "2  0.321438  0.015469\n",
      "3  0.434531  0.103644\n",
      "4  0.434531  0.015713\n"
     ]
    }
   ],
   "source": [
    "# Step 8: Print first 5 rows of normalized data to check results\n",
    "print(titanic_normalized_df.head())\n"
   ]
  }
 ],
 "metadata": {
  "kernelspec": {
   "display_name": "Python 3 (ipykernel)",
   "language": "python",
   "name": "python3"
  },
  "language_info": {
   "codemirror_mode": {
    "name": "ipython",
    "version": 3
   },
   "file_extension": ".py",
   "mimetype": "text/x-python",
   "name": "python",
   "nbconvert_exporter": "python",
   "pygments_lexer": "ipython3",
   "version": "3.13.1"
  }
 },
 "nbformat": 4,
 "nbformat_minor": 5
}
