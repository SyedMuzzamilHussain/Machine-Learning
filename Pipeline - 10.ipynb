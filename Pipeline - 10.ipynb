{
 "cells": [
  {
   "cell_type": "raw",
   "id": "acc2e1af-2e7f-44b4-8d07-b6fd6a2a5a7d",
   "metadata": {},
   "source": [
    "A pipeline in Machine Learning is a way to bundle all the steps of your workflow (like data preprocessing and modeling) into a single object, so you can run the entire process efficiently and reproducibly."
   ]
  },
  {
   "cell_type": "raw",
   "id": "8d28d98c-fb6c-4da4-9a4b-96e184a2559c",
   "metadata": {},
   "source": [
    "+----------------------+-----------------------------+--------------------------------------------+\n",
    "|      Feature         |     ColumnTransformer       |                 Pipeline                   |\n",
    "+----------------------+-----------------------------+--------------------------------------------+\n",
    "| Main Role            | Transforms columns          | Connects multiple steps end-to-end         |\n",
    "|                      | (preprocessing)             |                                            |\n",
    "+----------------------+-----------------------------+--------------------------------------------+\n",
    "| Focus                | Data preprocessing only     | Full ML process (preprocessing + model)    |\n",
    "+----------------------+-----------------------------+--------------------------------------------+\n",
    "| Used Inside          | Used inside a pipeline      | Wraps everything together                  |\n",
    "+----------------------+-----------------------------+--------------------------------------------+\n",
    "| Can include model?   | ❌ No                       | ✅ Yes                                     |\n",
    "+----------------------+-----------------------------+--------------------------------------------+\n",
    "| Example              | Scaling & encoding columns  | Scaling + Encoding + Modeling              |\n",
    "+----------------------+-----------------------------+--------------------------------------------+\n"
   ]
  },
  {
   "cell_type": "raw",
   "id": "c6535d95-7d61-4ed3-bd3a-a179d1c8588a",
   "metadata": {},
   "source": [
    "🔄 Why use a pipeline?\n",
    "Keeps code clean and organized\n",
    "\n",
    "Avoids data leakage during preprocessing\n",
    "\n",
    "Makes it easy to apply the same transformations to test and real-world data"
   ]
  },
  {
   "cell_type": "code",
   "execution_count": null,
   "id": "a1f5fbfa-bda1-446a-a2c0-f50fc815d12a",
   "metadata": {},
   "outputs": [],
   "source": [
    "# Data ---> Seprate(categorical, numerical) ---->\n",
    "# Categorical data ---> SimpleImputer fill ---> Encode\n",
    "# Numerical data ---> SimpleImputer fill ---> Standardize\n",
    "\n",
    "# Apply ----> Algorithm(Logsitics)"
   ]
  },
  {
   "cell_type": "markdown",
   "id": "2821084b-5d7f-4941-91a3-d51a2152e4ee",
   "metadata": {},
   "source": [
    "# 🔷 Simple Definition\n",
    "A Pipeline is a tool in machine learning that lets you bundle all steps of your workflow (like data cleaning, preprocessing, modeling) into one single object."
   ]
  },
  {
   "cell_type": "markdown",
   "id": "b161f63c-83e1-4fec-8052-e6a26aced65a",
   "metadata": {},
   "source": [
    "# ✅ Why Do We Use a Pipeline?\n",
    "Without a pipeline:\n",
    "\n",
    "You manually do each step:\n",
    "Clean data\n",
    "Encode categories\n",
    "Scale numbers\n",
    "Train model\n",
    "With a pipeline:\n",
    "\n",
    "You do everything in one command"
   ]
  },
  {
   "cell_type": "raw",
   "id": "635db218-f2d0-4fba-a9a9-72cffaa4366a",
   "metadata": {},
   "source": [
    "\n",
    "# Feature\t     ColumnTransformer\t                                    Pipeline\n",
    "🧠 Purpose\tApply different preprocessing to different columns\t    Chain all steps of a full ML workflow (preprocessing + model)\n",
    "🔍 Works on\tJust preprocessing (scaling, encoding, etc.)\t        Everything: preprocessing + model + tuning\n",
    "🧱 Used for\tTransforming columns differently (e.g., numbers vs categories)\tCombining steps like ColumnTransformer + Model\n",
    "⚙️ Structure\tJust transforms data → no model inside\t           Can include ColumnTransformer + model (e.g., LogisticRegression)"
   ]
  },
  {
   "cell_type": "code",
   "execution_count": 1,
   "id": "7886e5be-7049-425a-ab86-a95282eb7fca",
   "metadata": {},
   "outputs": [],
   "source": [
    "import pandas as pd\n",
    "import numpy as np"
   ]
  },
  {
   "cell_type": "code",
   "execution_count": 2,
   "id": "07b80649-b703-4a88-a9fc-773377740358",
   "metadata": {},
   "outputs": [],
   "source": [
    "df = pd.read_csv(\"covid_toy.csv\")"
   ]
  },
  {
   "cell_type": "code",
   "execution_count": 3,
   "id": "c62ce302-b1eb-4a2f-b6f2-422f9757dde5",
   "metadata": {},
   "outputs": [
    {
     "data": {
      "text/html": [
       "<div>\n",
       "<style scoped>\n",
       "    .dataframe tbody tr th:only-of-type {\n",
       "        vertical-align: middle;\n",
       "    }\n",
       "\n",
       "    .dataframe tbody tr th {\n",
       "        vertical-align: top;\n",
       "    }\n",
       "\n",
       "    .dataframe thead th {\n",
       "        text-align: right;\n",
       "    }\n",
       "</style>\n",
       "<table border=\"1\" class=\"dataframe\">\n",
       "  <thead>\n",
       "    <tr style=\"text-align: right;\">\n",
       "      <th></th>\n",
       "      <th>age</th>\n",
       "      <th>gender</th>\n",
       "      <th>fever</th>\n",
       "      <th>cough</th>\n",
       "      <th>city</th>\n",
       "      <th>has_covid</th>\n",
       "    </tr>\n",
       "  </thead>\n",
       "  <tbody>\n",
       "    <tr>\n",
       "      <th>0</th>\n",
       "      <td>60</td>\n",
       "      <td>Male</td>\n",
       "      <td>103.0</td>\n",
       "      <td>Mild</td>\n",
       "      <td>Kolkata</td>\n",
       "      <td>No</td>\n",
       "    </tr>\n",
       "    <tr>\n",
       "      <th>1</th>\n",
       "      <td>27</td>\n",
       "      <td>Male</td>\n",
       "      <td>100.0</td>\n",
       "      <td>Mild</td>\n",
       "      <td>Delhi</td>\n",
       "      <td>Yes</td>\n",
       "    </tr>\n",
       "    <tr>\n",
       "      <th>2</th>\n",
       "      <td>42</td>\n",
       "      <td>Male</td>\n",
       "      <td>101.0</td>\n",
       "      <td>Mild</td>\n",
       "      <td>Delhi</td>\n",
       "      <td>No</td>\n",
       "    </tr>\n",
       "  </tbody>\n",
       "</table>\n",
       "</div>"
      ],
      "text/plain": [
       "   age gender  fever cough     city has_covid\n",
       "0   60   Male  103.0  Mild  Kolkata        No\n",
       "1   27   Male  100.0  Mild    Delhi       Yes\n",
       "2   42   Male  101.0  Mild    Delhi        No"
      ]
     },
     "execution_count": 3,
     "metadata": {},
     "output_type": "execute_result"
    }
   ],
   "source": [
    "df.head(3)"
   ]
  },
  {
   "cell_type": "code",
   "execution_count": 4,
   "id": "57247bd8-9de9-4f7e-9b78-04bdc650c4a1",
   "metadata": {},
   "outputs": [],
   "source": [
    "from sklearn.compose import ColumnTransformer\n",
    "from sklearn.pipeline import Pipeline\n",
    "from sklearn.impute import SimpleImputer\n",
    "from sklearn.preprocessing import StandardScaler, OneHotEncoder\n",
    "from sklearn.linear_model import LogisticRegression\n",
    "from sklearn.model_selection import train_test_split"
   ]
  },
  {
   "cell_type": "code",
   "execution_count": 5,
   "id": "b42af360-de7f-4aff-88af-34cc3388e15f",
   "metadata": {},
   "outputs": [],
   "source": [
    "X = df.drop(columns = ['has_covid'])\n",
    "y= df['has_covid'] \n",
    "X_train, X_test, y_train, y_test = train_test_split(X,y,test_size=0.2,\n",
    "random_state=42)"
   ]
  },
  {
   "cell_type": "code",
   "execution_count": 6,
   "id": "68caa345-f8c8-4706-9a13-3342608ebf46",
   "metadata": {},
   "outputs": [],
   "source": [
    "# Define the columns that need to be preprocessed\n",
    "categorical_features = ['gender','city']\n",
    "numeric_features=['age','fever']"
   ]
  },
  {
   "cell_type": "code",
   "execution_count": 7,
   "id": "094ff35b-2812-4c2d-8b79-af80bcfea729",
   "metadata": {},
   "outputs": [],
   "source": [
    "# Create Trasnsformers\n",
    "numeric_transformer = Pipeline(steps=[\n",
    "    ('imputer', SimpleImputer(strategy='mean')),\n",
    "    ('scaler', StandardScaler())  # Corrected this line\n",
    "])\n",
    "\n",
    "categorical_transformer = Pipeline(steps=[\n",
    "('imputer', SimpleImputer(strategy='most_frequent')),\n",
    "('onehot', OneHotEncoder(handle_unknown='ignore'))\n",
    "])\n",
    "\n",
    "#Combine transformers\n",
    "preprocessor = ColumnTransformer (\n",
    "    transformers=[\n",
    "        ('num', numeric_transformer, numeric_features),\n",
    "        ('cat', categorical_transformer, categorical_features)\n",
    "    ])\n",
    "\n",
    "#Create the pipeline\n",
    "clf = Pipeline(steps=[('preprocessor', preprocessor),\n",
    "                      ('classifier', LogisticRegression())])\n",
    "#Train the model\n",
    "clf.fit(X_train, y_train)\n",
    "# Evaluate the model\n",
    "y_pred = clf.predict(X_test)"
   ]
  },
  {
   "cell_type": "code",
   "execution_count": 8,
   "id": "92600bec-f9c7-48d3-9a56-643962bc710a",
   "metadata": {},
   "outputs": [
    {
     "data": {
      "text/plain": [
       "array(['No', 'Yes', 'No', 'No', 'No', 'No', 'Yes', 'Yes', 'No', 'Yes',\n",
       "       'No', 'No', 'Yes', 'Yes', 'No', 'No', 'No', 'Yes', 'Yes', 'No'],\n",
       "      dtype=object)"
      ]
     },
     "execution_count": 8,
     "metadata": {},
     "output_type": "execute_result"
    }
   ],
   "source": [
    " y_pred"
   ]
  },
  {
   "cell_type": "code",
   "execution_count": 9,
   "id": "bb787e89-92df-4dfd-a6fd-823435cf773f",
   "metadata": {},
   "outputs": [],
   "source": [
    "from sklearn.metrics import accuracy_score"
   ]
  },
  {
   "cell_type": "code",
   "execution_count": 10,
   "id": "5796b8f4-072d-4245-b141-00dd194b0c88",
   "metadata": {},
   "outputs": [],
   "source": [
    "acc = accuracy_score(y_test,y_pred)"
   ]
  },
  {
   "cell_type": "code",
   "execution_count": 11,
   "id": "e040f5d6-15ed-4ea7-aeea-23f337cd6f3b",
   "metadata": {},
   "outputs": [
    {
     "data": {
      "text/plain": [
       "0.65"
      ]
     },
     "execution_count": 11,
     "metadata": {},
     "output_type": "execute_result"
    }
   ],
   "source": [
    "acc"
   ]
  },
  {
   "cell_type": "code",
   "execution_count": null,
   "id": "62f7f73d-17c2-4f72-a0dd-3eaf449e5193",
   "metadata": {},
   "outputs": [],
   "source": []
  }
 ],
 "metadata": {
  "kernelspec": {
   "display_name": "Python 3 (ipykernel)",
   "language": "python",
   "name": "python3"
  },
  "language_info": {
   "codemirror_mode": {
    "name": "ipython",
    "version": 3
   },
   "file_extension": ".py",
   "mimetype": "text/x-python",
   "name": "python",
   "nbconvert_exporter": "python",
   "pygments_lexer": "ipython3",
   "version": "3.13.1"
  }
 },
 "nbformat": 4,
 "nbformat_minor": 5
}
