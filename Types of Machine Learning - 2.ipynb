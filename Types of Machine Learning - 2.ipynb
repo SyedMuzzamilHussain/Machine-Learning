{
 "cells": [
  {
   "cell_type": "markdown",
   "id": "a562dfd9-2bba-4a8b-be1d-7b1e4837cda5",
   "metadata": {},
   "source": [
    "# 1. Types of Machine Learning in Detail"
   ]
  },
  {
   "cell_type": "markdown",
   "id": "606ad843-e9e1-4bd4-b7d7-5df876641267",
   "metadata": {},
   "source": [
    "# a) Supervised Learning\n",
    "\n",
    "Supervised learning means teaching the machine with labeled examples — data where the \"right answers\" are already known. The goal is for the machine to learn a function or mapping from inputs (features) to outputs (labels) so it can predict answers for new, unseen data."
   ]
  },
  {
   "cell_type": "markdown",
   "id": "6640f8c5-3f96-4868-b70b-a39b276190b0",
   "metadata": {},
   "source": [
    "# How it works:\n",
    "You give the machine a dataset with inputs (like pictures, numbers, text) and their correct outputs (like labels, categories, or values).\n",
    "\n",
    "The machine tries to learn the relationship between inputs and outputs.\n",
    "\n",
    "It tests itself on known data, adjusts itself to reduce mistakes (errors).\n",
    "\n",
    "After learning, you can give new input data, and it predicts the output."
   ]
  },
  {
   "cell_type": "markdown",
   "id": "65feacfc-1912-4ee0-a798-d0110be0de89",
   "metadata": {},
   "source": [
    "# Types of problems:\n",
    "Classification: Predicting a category or label (e.g., spam or not spam, cat or dog).\n",
    "\n",
    "Regression: Predicting a continuous value (e.g., price of a house, temperature tomorrow)."
   ]
  },
  {
   "cell_type": "markdown",
   "id": "dc59f911-2a1a-4b05-ad4d-cd8ea17b3c4d",
   "metadata": {},
   "source": [
    "# Examples:\n",
    "Email spam filter: emails labeled “spam” or “not spam.”\n",
    "\n",
    "Predicting house prices from size, location, age, etc.\n",
    "\n",
    "Diagnosing disease from medical test data."
   ]
  },
  {
   "cell_type": "markdown",
   "id": "c285c7a0-de33-41ff-9ad6-13b7c6a9728a",
   "metadata": {},
   "source": [
    "# 2. Unsupervised Learning\n"
   ]
  },
  {
   "cell_type": "markdown",
   "id": "48e1d7b5-ac97-4acd-bace-d861a0d6065f",
   "metadata": {},
   "source": [
    "# What it is:\n",
    "Unsupervised learning means the machine is given data without labels or answers. It tries to discover patterns, structures, or relationships on its own."
   ]
  },
  {
   "cell_type": "markdown",
   "id": "28a9593d-bbf1-4481-933c-1470fef03e30",
   "metadata": {},
   "source": [
    "# How it works:\n",
    "The machine looks for similarities, differences, or hidden structures in data.\n",
    "\n",
    "It groups data into clusters or finds important features that summarize the data.\n",
    "\n",
    "No explicit \"right answers\" are provided."
   ]
  },
  {
   "cell_type": "markdown",
   "id": "78e40d99-0f1f-4311-8765-89cac489cc48",
   "metadata": {},
   "source": [
    "# Common tasks:\n",
    "Clustering: Grouping data points based on similarity (e.g., grouping customers by buying habits).\n",
    "\n",
    "Dimensionality reduction: Simplifying data while keeping important information (e.g., compressing images).\n",
    "\n"
   ]
  },
  {
   "cell_type": "markdown",
   "id": "43dedfdd-1e3e-4451-bc88-07c369b5b244",
   "metadata": {},
   "source": [
    "# Examples:\n",
    "Customer segmentation: Grouping shoppers to target marketing better.\n",
    "\n",
    "Anomaly detection: Finding unusual transactions that might be fraud.\n",
    "\n",
    "Organizing large document collections."
   ]
  },
  {
   "cell_type": "markdown",
   "id": "d6654723-60d2-4d69-aaf9-9d2c9a10a78c",
   "metadata": {},
   "source": [
    "# 3. Reinforcement Learning (RL)"
   ]
  },
  {
   "cell_type": "markdown",
   "id": "b360a1bd-14b9-4f72-81f6-7eda05947ff0",
   "metadata": {},
   "source": [
    "# What it is:\n",
    "Reinforcement learning is a different approach where the machine learns by interacting with an environment and receiving feedback (rewards or penalties). It’s like teaching by trial and error.\n",
    "\n"
   ]
  },
  {
   "cell_type": "markdown",
   "id": "84cfb093-b29e-4867-9f68-75a7fbc58032",
   "metadata": {},
   "source": [
    "# How it works:\n",
    "The machine (agent) takes an action in an environment (game, robot, etc.).\n",
    "\n",
    "The environment gives a reward (positive or negative) based on that action.\n",
    "\n",
    "The agent tries to maximize total reward over time by learning the best actions to take in different situations (states).\n",
    "\n"
   ]
  },
  {
   "cell_type": "code",
   "execution_count": null,
   "id": "43136de3-b9e1-4191-9f93-ec62dc90ceff",
   "metadata": {},
   "outputs": [],
   "source": []
  }
 ],
 "metadata": {
  "kernelspec": {
   "display_name": "Python 3 (ipykernel)",
   "language": "python",
   "name": "python3"
  },
  "language_info": {
   "codemirror_mode": {
    "name": "ipython",
    "version": 3
   },
   "file_extension": ".py",
   "mimetype": "text/x-python",
   "name": "python",
   "nbconvert_exporter": "python",
   "pygments_lexer": "ipython3",
   "version": "3.13.1"
  }
 },
 "nbformat": 4,
 "nbformat_minor": 5
}
